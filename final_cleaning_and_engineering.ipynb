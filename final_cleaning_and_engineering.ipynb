{
 "cells": [
  {
   "cell_type": "markdown",
   "metadata": {
    "id": "GgX0w0tIuWNz"
   },
   "source": [
    "### Import libraries and tools"
   ]
  },
  {
   "cell_type": "code",
   "execution_count": 1,
   "metadata": {},
   "outputs": [],
   "source": [
    "import numpy as np\n",
    "import pandas as pd\n",
    "from sklearn.impute import KNNImputer"
   ]
  },
  {
   "cell_type": "markdown",
   "metadata": {},
   "source": [
    "# Data Cleaning"
   ]
  },
  {
   "cell_type": "markdown",
   "metadata": {},
   "source": [
    "### Load Raw Data"
   ]
  },
  {
   "cell_type": "code",
   "execution_count": 2,
   "metadata": {},
   "outputs": [],
   "source": [
    "# Load raw data\n",
    "df = pd.read_csv(\"LifeExpectancyRaw.csv\")"
   ]
  },
  {
   "cell_type": "markdown",
   "metadata": {},
   "source": [
    "### Drop Rows"
   ]
  },
  {
   "cell_type": "code",
   "execution_count": 3,
   "metadata": {},
   "outputs": [],
   "source": [
    "# Drop rows where life expectancy is missing (10 countries where the country only has one year of data)\n",
    "df = df.dropna(subset=['Life expectancy '])\n",
    "\n",
    "# Drop South Sudan due to large portion of missing data\n",
    "df = df[df['Country'] != 'South Sudan']"
   ]
  },
  {
   "cell_type": "markdown",
   "metadata": {},
   "source": [
    "### Convert Columns to Binary"
   ]
  },
  {
   "cell_type": "code",
   "execution_count": 4,
   "metadata": {},
   "outputs": [],
   "source": [
    "# Convert status column to binary\n",
    "df['Status'].replace({'Developed': 1, 'Developing': 0}, inplace=True)"
   ]
  },
  {
   "cell_type": "markdown",
   "metadata": {},
   "source": [
    "### Manually Insert Data"
   ]
  },
  {
   "cell_type": "code",
   "execution_count": 5,
   "metadata": {},
   "outputs": [],
   "source": [
    "# Manually insert population\n",
    "pop_df = pd.read_csv(\"population-and-demography.csv\")\n",
    "\n",
    "# Rename values and columns for merging\n",
    "pop_df['Entity'] = pop_df['Entity'].replace({\n",
    "    'Bolivia': 'Bolivia (Plurinational State of)',\n",
    "    'Brunei': 'Brunei Darussalam',\n",
    "    \"Cote d'Ivoire\": \"Côte d'Ivoire\",\n",
    "    'Cape Verde': 'Cabo Verde',\n",
    "    'Democratic Republic of Congo': 'Democratic Republic of the Congo',\n",
    "    'North Korea': \"Democratic People's Republic of Korea\",\n",
    "    'Iran': 'Iran (Islamic Republic of)',\n",
    "    'South Korea': 'Republic of Korea',\n",
    "    'Laos': \"Lao People's Democratic Republic\",\n",
    "    'Micronesia (country)': 'Micronesia (Federated States of)',\n",
    "    'Moldova': 'Republic of Moldova',\n",
    "    'North Macedonia': 'The former Yugoslav republic of Macedonia',\n",
    "    'Tanzania': 'United Republic of Tanzania',\n",
    "    'United Kingdom': 'United Kingdom of Great Britain and Northern Ireland',\n",
    "    'United States': 'United States of America',\n",
    "    'Venezuela': 'Venezuela (Bolivarian Republic of)',\n",
    "    'Vietnam': 'Viet Nam', \n",
    "    'Russia': 'Russian Federation',\n",
    "    'Eswatini': 'Swaziland', \n",
    "    'Syria': 'Syrian Arab Republic',\n",
    "    'East Timor': 'Timor-Leste'\n",
    "})\n",
    "\n",
    "pop_df = pop_df.rename(columns={\n",
    "    'Entity': 'Country',\n",
    "    \"Population - Sex: all - Age: all - Variant: estimates\": \"Population\"})\n",
    "\n",
    "# Merge df with pop_df on Country and Year\n",
    "df = df.merge(pop_df[['Country', 'Year', 'Population']], on=['Country', 'Year'], how='left', suffixes=('', '_pop_df'))\n",
    "\n",
    "# Fill missing values in df's Population column with values from pop_df\n",
    "df['Population'] = df['Population_pop_df']\n",
    "\n",
    "# Drop the additional Population column from pop_df after filling in missing values\n",
    "df = df.drop(columns=['Population_pop_df'])"
   ]
  },
  {
   "cell_type": "code",
   "execution_count": 6,
   "metadata": {},
   "outputs": [],
   "source": [
    "# Load measles data\n",
    "measles_df = pd.read_csv('MeaslesCoverage.csv', encoding='latin1')\n",
    "\n",
    "# Replace original values with NaN\n",
    "df['Measles '] = np.nan\n",
    "\n",
    "# Merge df with measles_df on 'Country' and 'Year'\n",
    "measles_df = measles_df.rename(columns={'NAME': 'Country', 'YEAR': 'Year'})\n",
    "merged_df = df.merge(measles_df[['Country', 'Year', 'COVERAGE']], on=['Country', 'Year'], how='left')\n",
    "\n",
    "# Fill NaN values in the 'Measles' column with corresponding 'COVERAGE' values from measles_df\n",
    "df['Measles '] = merged_df['Measles '].fillna(merged_df['COVERAGE'])\n",
    "\n",
    "# Replace values in 'Measles' column that fall outside the expected percentage range with NaN\n",
    "df.loc[df['Measles '] > 100, 'Measles '] = np.nan"
   ]
  },
  {
   "cell_type": "code",
   "execution_count": 7,
   "metadata": {},
   "outputs": [],
   "source": [
    "# Manually insert under-five deaths\n",
    "mortality_df = pd.read_csv(\"child-mortality.csv\")\n",
    "\n",
    "# Rename values and columns for merging\n",
    "mortality_df['Entity'] = mortality_df['Entity'].replace({\n",
    "    'Bolivia': 'Bolivia (Plurinational State of)',\n",
    "    'Brunei': 'Brunei Darussalam',\n",
    "    \"Cote d'Ivoire\": \"Côte d'Ivoire\",\n",
    "    'Cape Verde': 'Cabo Verde',\n",
    "    'Democratic Republic of Congo': 'Democratic Republic of the Congo',\n",
    "    'North Korea': \"Democratic People's Republic of Korea\",\n",
    "    'Iran': 'Iran (Islamic Republic of)',\n",
    "    'South Korea': 'Republic of Korea',\n",
    "    'Laos': \"Lao People's Democratic Republic\",\n",
    "    'Micronesia (country)': 'Micronesia (Federated States of)',\n",
    "    'Moldova': 'Republic of Moldova',\n",
    "    'North Macedonia': 'The former Yugoslav republic of Macedonia',\n",
    "    'Tanzania': 'United Republic of Tanzania',\n",
    "    'United Kingdom': 'United Kingdom of Great Britain and Northern Ireland',\n",
    "    'United States': 'United States of America',\n",
    "    'Venezuela': 'Venezuela (Bolivarian Republic of)',\n",
    "    'Vietnam': 'Viet Nam', \n",
    "    'Russia': 'Russian Federation',\n",
    "    'Eswatini': 'Swaziland', \n",
    "    'Syria': 'Syrian Arab Republic',\n",
    "    'East Timor': 'Timor-Leste'\n",
    "})\n",
    "\n",
    "mortality_df = mortality_df.rename(columns={\n",
    "    'Entity': 'Country',\n",
    "    'Under-five mortality rate': 'under-five deaths '})\n",
    "\n",
    "# Merge df with pop_df on Country and Year\n",
    "df = df.merge(mortality_df[['Country', 'Year', 'under-five deaths ']], on=['Country', 'Year'], how='left', suffixes=('', '_mortality_df'))\n",
    "\n",
    "# Replace under-five deaths with values from mortality_df\n",
    "df['under-five deaths '] = df['under-five deaths '].astype(float) # Make columns the same dtype to avoid errors\n",
    "df['under-five deaths '] = df['under-five deaths _mortality_df'] * 10 # Adjust from percentage to rate per 1000\n",
    "\n",
    "# Drop the additional column from mortality_df after filling in values\n",
    "df = df.drop(columns=['under-five deaths _mortality_df'])"
   ]
  },
  {
   "cell_type": "code",
   "execution_count": 8,
   "metadata": {},
   "outputs": [],
   "source": [
    "# Manually insert GDP data\n",
    "gdp_df = pd.read_csv(\"GDP.csv\", skiprows=4)\n",
    "gdp_df.drop(columns=['Country Code', 'Indicator Code', '1960', '1961', '1962', '1963', '1964', '1965', '1966', '1967', '1968',\n",
    "       '1969', '1970', '1971', '1972', '1973', '1974', '1975', '1976', '1977',\n",
    "       '1978', '1979', '1980', '1981', '1982', '1983', '1984', '1985', '1986',\n",
    "       '1987', '1988', '1989', '1990', '1991', '1992', '1993', '1994', '1995',\n",
    "       '1996', '1997', '1998', '1999', '2016', '2017', '2018', '2019', '2020', '2021', '2022',\n",
    "       '2023', 'Unnamed: 68'], inplace=True)            # drop unnecessary columns\n",
    "\n",
    "# Rename column names to match our data\n",
    "gdp_df['Country Name'] = gdp_df['Country Name'].replace({\n",
    "    'Bahamas, The': 'Bahamas',\n",
    "    'Bolivia': 'Bolivia (Plurinational State of)',\n",
    "    \"Cote d'Ivoire\": \"Côte d'Ivoire\",\n",
    "    'Congo, Dem. Rep.':'Democratic Republic of the Congo',\n",
    "    'Congo, Rep.':'Congo',\n",
    "    'Egypt, Arab Rep.':'Egypt',\n",
    "    'Gambia, The': \"Gambia\",\n",
    "    'Iran, Islamic Rep.': 'Iran (Islamic Republic of)',\n",
    "    'Korea, Dem. People\\'s Rep.':\"Democratic People's Republic of Korea\",\n",
    "    'Korea, Rep.': 'Republic of Korea',\n",
    "    'Kyrgyz Republic': 'Kyrgyzstan',\n",
    "    \"Lao PDR\": \"Lao People's Democratic Republic\",\n",
    "    'Micronesia, Fed. Sts.': 'Micronesia (Federated States of)',\n",
    "    'Moldova': 'Republic of Moldova',\n",
    "    'North Macedonia': 'The former Yugoslav republic of Macedonia',\n",
    "    'Slovak Republic': 'Slovakia',\n",
    "    'St. Lucia': 'Saint Lucia',\n",
    "    'St. Vincent and the Grenadines': 'Saint Vincent and the Grenadines',\n",
    "    'Tanzania': 'United Republic of Tanzania',\n",
    "    'United Kingdom': 'United Kingdom of Great Britain and Northern Ireland',\n",
    "    'United States': 'United States of America',\n",
    "    'Venezuela, RB': 'Venezuela (Bolivarian Republic of)',\n",
    "    'Vietnam': 'Viet Nam',\n",
    "    'Yemen, Rep.': 'Yemen'\n",
    "})\n",
    "# Turn year columns into seperate rows\n",
    "gdp_df = pd.melt(gdp_df, \n",
    "                   id_vars=['Country Name', 'Indicator Name'],\n",
    "                   var_name='Year', \n",
    "                   value_name='GDP')\n",
    "\n",
    "# Change year to int to be able to merge\n",
    "gdp_df['Year'] = gdp_df['Year'].astype(int)\n",
    "\n",
    "# Merge df with gdp_df on 'Country' and 'Year'\n",
    "gdp_df_merged = df.merge(gdp_df[['Country Name', 'Year', 'GDP']], left_on=['Country', 'Year'], \n",
    "                         right_on=['Country Name', 'Year'], \n",
    "                         how='left', \n",
    "                         suffixes=('', '_new'))\n",
    "\n",
    "# Add Venezuela data\n",
    "years = list(range(2000,2016))\n",
    "gdp_ven = [11.9e3, 12.1e3, 10.8e3, 9.83e3, 11.4e3, 12.4e3, 13.4e3, 14.4e3, 14.9e3, 14.2e3, 13.8e3, 14.2e3, 14.7e3, 14.7e3, 1.4e4, 14.1e3]\n",
    "venezuela_gdp = pd.DataFrame({\n",
    "    'Country': 'Venezuela (Bolivarian Republic of)',\n",
    "    'Year': years,\n",
    "    'GDP_v': gdp_ven\n",
    "})\n",
    "\n",
    "# Add North Korea data\n",
    "gdp_nk = [10.61e9, 11.02e9, 10.91e9, 11.05e9, 11.17e9, 13.03e9, 13.76e9, 14.37e9, 13.34e9, 12.04e9, 13.95e9, 15.69e9, 15.91e9, 16.57e9, 17.4e9, 16.28e9]\n",
    "nk_gdp = pd.DataFrame({\n",
    "    'Country': \"Democratic People's Republic of Korea\",\n",
    "    'Year':years,\n",
    "    'GDP_nk':gdp_nk\n",
    "})\n",
    "\n",
    "# Merge GDP data back into the main DataFrame on Country and Year\n",
    "gdp_df_merged = gdp_df_merged.merge(venezuela_gdp, on=['Country', 'Year'], how='outer')\n",
    "gdp_df_merged = gdp_df_merged.merge(nk_gdp, on=['Country', 'Year'], how='outer')\n",
    "\n",
    "# Fill missing GDP values\n",
    "gdp_df_merged['GDP'] = gdp_df_merged['GDP'].fillna(gdp_df_merged['GDP_new'])\n",
    "gdp_df_merged['GDP'] = gdp_df_merged['GDP'].fillna(gdp_df_merged['GDP_v'])\n",
    "gdp_df_merged['GDP'] = gdp_df_merged['GDP'].fillna(gdp_df_merged['GDP_nk']/gdp_df_merged['Population'])\n",
    "\n",
    "# Drop joined columns after filling in missing values\n",
    "df = gdp_df_merged.drop(columns=['Country Name', 'GDP_v', 'GDP_new', 'GDP_nk'])"
   ]
  },
  {
   "cell_type": "code",
   "execution_count": 9,
   "metadata": {},
   "outputs": [],
   "source": [
    "# Manually insert infant mortality\n",
    "infant_df = pd.read_csv(\"infant-mortality.csv\")\n",
    "\n",
    "# Rename values and columns for merging\n",
    "infant_df['Entity'] = infant_df['Entity'].replace({\n",
    "    'Bolivia': 'Bolivia (Plurinational State of)',\n",
    "    'Brunei': 'Brunei Darussalam',\n",
    "    \"Cote d'Ivoire\": \"Côte d'Ivoire\",\n",
    "    'Cape Verde': 'Cabo Verde',\n",
    "    'Democratic Republic of Congo': 'Democratic Republic of the Congo',\n",
    "    'North Korea': \"Democratic People's Republic of Korea\",\n",
    "    'Iran': 'Iran (Islamic Republic of)',\n",
    "    'South Korea': 'Republic of Korea',\n",
    "    'Laos': \"Lao People's Democratic Republic\",\n",
    "    'Micronesia (country)': 'Micronesia (Federated States of)',\n",
    "    'Moldova': 'Republic of Moldova',\n",
    "    'North Macedonia': 'The former Yugoslav republic of Macedonia',\n",
    "    'Tanzania': 'United Republic of Tanzania',\n",
    "    'United Kingdom': 'United Kingdom of Great Britain and Northern Ireland',\n",
    "    'United States': 'United States of America',\n",
    "    'Venezuela': 'Venezuela (Bolivarian Republic of)',\n",
    "    'Vietnam': 'Viet Nam', \n",
    "    'Russia': 'Russian Federation',\n",
    "    'Eswatini': 'Swaziland', \n",
    "    'Syria': 'Syrian Arab Republic',\n",
    "    'East Timor': 'Timor-Leste'\n",
    "})\n",
    "infant_df = infant_df.rename(columns={'Entity': 'Country'})\n",
    "\n",
    "# Merge df with pop_df on Country and Year\n",
    "df = df.merge(infant_df[['Country', 'Year', 'infant deaths']], on=['Country', 'Year'], how='left', suffixes=('', '_infant_df'))\n",
    "\n",
    "# Replace infant deaths with values from infant_df\n",
    "df['infant deaths'] = df['infant deaths_infant_df'] * 10 # Adjust from percentage to rate per 1000\n",
    "\n",
    "# Drop the additional column from infant_df after filling in values\n",
    "df = df.drop(columns=['infant deaths_infant_df'])"
   ]
  },
  {
   "cell_type": "markdown",
   "metadata": {},
   "source": [
    "### Forward/Backward Fill and Linear Interpolation by Country"
   ]
  },
  {
   "cell_type": "code",
   "execution_count": 10,
   "metadata": {},
   "outputs": [],
   "source": [
    "def fill_missing_values(group, col):\n",
    "    # Interpolate values for years 2001-2014\n",
    "    group.loc[(group['Year'] > 2000) & (group['Year'] < 2015), col] = group[col].interpolate(method='linear')\n",
    "\n",
    "    # For year 2000, fill with the next year's value if available\n",
    "    group.loc[group['Year'] == 2000, col] = group.loc[group['Year'] == 2000, col].fillna(group.loc[group['Year'] == 2001, col])\n",
    "\n",
    "    # For year 2015, fill with the previous year's value if available\n",
    "    group.loc[group['Year'] == 2015, col] = group.loc[group['Year'] == 2015, col].fillna(group.loc[group['Year'] == 2014, col])\n",
    "\n",
    "    return group\n",
    "\n",
    "# Fill missing values by interpolation\n",
    "start_col, end_col = df.columns.get_loc('Status'), df.columns.get_loc('Schooling')\n",
    "for col in df.columns[start_col:end_col + 1]:\n",
    "  df = df.groupby('Country', group_keys=False).apply(lambda group: fill_missing_values(group, col))\n",
    "  df = df.reset_index(drop=True)"
   ]
  },
  {
   "cell_type": "markdown",
   "metadata": {},
   "source": [
    "### Fix Values that Fall Outside the Reasonable Range"
   ]
  },
  {
   "cell_type": "code",
   "execution_count": 11,
   "metadata": {},
   "outputs": [],
   "source": [
    "# Replace values outside the reasonable adult mortality range with NaN\n",
    "df.loc[~df['Adult Mortality'].between(1, 500), 'Adult Mortality'] = np.nan\n",
    "\n",
    "# Load sample data\n",
    "fixed_df = pd.read_csv(\"LifeExpectancyCleanSample.csv\")\n",
    "\n",
    "# Rename columns in fixed_df\n",
    "fixed_df['Country'] = fixed_df['Country'].replace({'Bahamas, The':'Bahamas', 'Bolivia':'Bolivia (Plurinational State of)',\n",
    "        \"Cote d'Ivoire\":\"Côte d'Ivoire\", 'Congo, Rep.':'Congo', \"Egypt, Arab Rep.\":\"Egypt\",\n",
    "        'Gambia, The':'Gambia', 'Iran, Islamic Rep.':'Iran (Islamic Republic of)', 'Kyrgyz Republic':'Kyrgyzstan', \n",
    "        \"Lao PDR\":\"Lao People's Democratic Republic\", 'Micronesia, Fed. Sts.':'Micronesia (Federated States of)',\n",
    "        'Moldova':'Republic of Moldova', 'St. Lucia':'Saint Lucia', \"Congo, Dem. Rep.\":\"Democratic Republic of the Congo\",\n",
    "        'St. Vincent and the Grenadines':'Saint Vincent and the Grenadines', 'Slovak Republic':'Slovakia',\n",
    "        'Eswatini':'Swaziland', 'North Macedonia':'The former Yugoslav republic of Macedonia',\n",
    "        'Turkiye':'Turkey', 'United Kingdom':'United Kingdom of Great Britain and Northern Ireland',\n",
    "        'Tanzania':'United Republic of Tanzania', 'United States':'United States of America',\n",
    "        'Venezuela, RB':'Venezuela (Bolivarian Republic of)', 'Vietnam':'Viet Nam', 'Yemen, Rep.':'Yemen'})\n",
    "\n",
    "# Replace BMI values with BMI values from fixed_df\n",
    "df.rename(columns={' BMI ': 'BMI'}, inplace=True)\n",
    "df = df.merge(fixed_df[['Country', 'Year', 'BMI']], on=['Country', 'Year'], how='left', suffixes=('', '_new'))\n",
    "df['BMI'] = df['BMI_new'].combine_first(df['BMI'])\n",
    "df.drop(columns=['BMI_new'], inplace=True)\n",
    "\n",
    "# For countries not found in fixed_df, we drop the BMI values in our df to impute by knn\n",
    "df.loc[df['Country'].isin([\"Democratic People's Republic of Korea\", 'Republic of Korea', 'Sudan']), 'BMI'] = np.nan\n",
    "\n",
    "# Replace 0 values in 'Total expenditure' with NaN\n",
    "df['percentage expenditure'] = df['percentage expenditure'].replace(0, np.nan)"
   ]
  },
  {
   "cell_type": "markdown",
   "metadata": {},
   "source": [
    "### KNN"
   ]
  },
  {
   "cell_type": "code",
   "execution_count": 12,
   "metadata": {},
   "outputs": [],
   "source": [
    "# Store the 'Country' column temporarily in order to perform KNN on Numeric Data\n",
    "country_col = df['Country']\n",
    "df = df.drop(columns=['Country'])\n",
    "\n",
    "# Apply KNN Imputer for Remaining NaN Values\n",
    "knn_imputer = KNNImputer(n_neighbors=2)\n",
    "df = pd.DataFrame(knn_imputer.fit_transform(df), columns=df.columns)\n",
    "\n",
    "# Re-add 'Country' to the DataFrame\n",
    "df['Country'] = country_col.values"
   ]
  },
  {
   "cell_type": "markdown",
   "metadata": {},
   "source": [
    "### Formatting"
   ]
  },
  {
   "cell_type": "code",
   "execution_count": 13,
   "metadata": {},
   "outputs": [],
   "source": [
    "# Strip columns of leading and trailing whitespace\n",
    "df.columns = df.columns.str.strip()\n",
    "\n",
    "# Rename columns to create consistent capitalization\n",
    "df.rename(columns={'Life expectancy':'Life Expectancy', 'infant deaths':'Infant Deaths', 'percentage expenditure':'Percentage Expenditure', \n",
    "                   'under-five deaths':'Under-five Deaths', 'Total expenditure':'Total Expenditure', 'thinness  1-19 years':'Thinness 1-19 Years', \n",
    "                   'thinness 5-9 years':'Thinness 5-9 Years', 'Income composition of resources':'Income Composition of Resources'}, inplace=True)\n",
    "\n",
    "# Sort by countries\n",
    "cols = ['Country'] + [col for col in df.columns if col != 'Country']\n",
    "df = df[cols]\n",
    "df = df.sort_values(by=['Country', 'Year'])\n",
    "\n",
    "# Rename lengthy country names\n",
    "df['Country'] = df['Country'].replace({'Bolivia (Plurinational State of)':'Bolivia', \"Côte d'Ivoire\":\"Cote d'Ivoire\", 'Democratic Republic of the Congo':'DR of the Congo',\n",
    "                   'Iran (Islamic Republic of)':'Iran', \"Lao People's Democratic Republic\":\"Lao People's DR\",\n",
    "                   'Micronesia (Federated States of)':'Micronesia', 'Saint Vincent and the Grenadines':'St Vincent and the Grenadines',\n",
    "                   'Russian Federation':'Russia', 'The former Yugoslav republic of Macedonia':'North Macedonia',\n",
    "                   'United Kingdom of Great Britain and Northern Ireland': 'United Kingdom',\n",
    "                   'United States of America':'United States', 'Venezuela (Bolivarian Republic of)':'Venezuela',\n",
    "                   'Viet Nam':'Vietnam'})"
   ]
  },
  {
   "cell_type": "markdown",
   "metadata": {},
   "source": [
    "### Assertions"
   ]
  },
  {
   "cell_type": "code",
   "execution_count": 14,
   "metadata": {},
   "outputs": [],
   "source": [
    "assert df.duplicated().sum() == 0, \"The DataFrame contains duplicate rows.\"\n",
    "assert df.isnull().sum().sum() == 0, \"There are null values in the DataFrame.\"\n",
    "assert df.groupby('Country')['Year'].apply(lambda x: set(range(2000, 2016)).issubset(x)).all(), \"Not all countries have entries for each year from 2000 to 2015.\"\n",
    "assert df['Life Expectancy'].between(35, 100).all(), \"Life expectancy values are out of the specified range\"\n",
    "assert df['Adult Mortality'].between(1, 500).all(), \"Adult mortality values are out of the specified range\"\n",
    "assert df['Infant Deaths'].between(1, 500).all(), \"Infant mortality values are out of the specified range\"\n",
    "assert df['Alcohol'].between(0, 18).all(), \"Alcohol consumption values are out of the specified range\"\n",
    "assert df['Percentage Expenditure'].between(0, 30000).all(), \"Percentage expenditure values are out of the specified range\"\n",
    "assert df['Hepatitis B'].between(0, 100).all(), \"Hepatitis B values are out of the specified range\"\n",
    "assert df['Measles'].between(0, 100).all(), \"Measles values are out of the specified range\"\n",
    "assert df['BMI'].between(18, 33).all(), \"BMI values are out of the specified range\"\n",
    "assert df['Under-five Deaths'].between(1, 1000).all(), \"Under-five mortality values are out of the specified range\"\n",
    "assert df['Polio'].between(0, 100).all(), \"Polio values are out of the specified range\"\n",
    "assert df['Total Expenditure'].between(0, 30000).all(), \"Total expenditure values are out of the specified range\"\n",
    "assert df['Diphtheria'].between(0, 100).all(), \"Diptheria values are out of the specified range\"\n",
    "assert df['HIV/AIDS'].between(0, 300).all(), \"HIV/AIDS values are out of the specified range\"\n",
    "assert df['GDP'].between(0, 300000).all(), \"GDP values are out of the specified range\"\n",
    "assert df['Population'].between(100, 2000000000).all(), \"Population values are out of the specified range\"\n",
    "assert df['Thinness 1-19 Years'].between(0, 60).all(), \"Thinness (1-19) values are out of the specified range\"\n",
    "assert df['Thinness 5-9 Years'].between(0, 60).all(), \"Thinness (5-9) values are out of the specified range\"\n",
    "assert df['Income Composition of Resources'].between(0, 1).all(), \"Income composition resources values are out of the specified range\"\n",
    "assert df['Schooling'].between(0, 25).all(), \"Schooling values are out of the specified range\""
   ]
  },
  {
   "cell_type": "markdown",
   "metadata": {},
   "source": [
    "### Export Clean Data to CSV"
   ]
  },
  {
   "cell_type": "code",
   "execution_count": 15,
   "metadata": {},
   "outputs": [],
   "source": [
    "df.to_csv('LifeExpectancyDraft.csv', index=False)"
   ]
  },
  {
   "cell_type": "markdown",
   "metadata": {},
   "source": [
    "# Feature Engineering"
   ]
  },
  {
   "cell_type": "code",
   "execution_count": 16,
   "metadata": {},
   "outputs": [],
   "source": [
    "# Read in cleaned data\n",
    "df = pd.read_csv('LifeExpectancyDraft.csv')"
   ]
  },
  {
   "cell_type": "markdown",
   "metadata": {},
   "source": [
    "### Population Density"
   ]
  },
  {
   "cell_type": "code",
   "execution_count": 17,
   "metadata": {},
   "outputs": [],
   "source": [
    "# Load Area Data\n",
    "area_df = pd.read_csv('LandAreakm.csv')\n",
    "\n",
    "# Rename Columns for clarity\n",
    "area_df = area_df.rename(columns={'Entity': 'Country', 'Land area (sq. km)': 'Area'})\n",
    "\n",
    "# Add 'Area' Column to df\n",
    "area_df = area_df.groupby('Country', as_index=False).agg({'Area': 'first'})\n",
    "df = df.merge(area_df[['Country', 'Area']], on='Country', how='left')\n",
    "\n",
    "# Drop Duplicate Rows\n",
    "df = df.drop_duplicates()\n",
    "\n",
    "# Create Population Density Column\n",
    "df['PopulationDensity'] = df['Population'] / df['Area']\n",
    "\n",
    "# Remove Area Column\n",
    "df = df.drop('Area', axis=1)"
   ]
  },
  {
   "cell_type": "markdown",
   "metadata": {},
   "source": [
    "### Population Growth Rate"
   ]
  },
  {
   "cell_type": "code",
   "execution_count": 18,
   "metadata": {},
   "outputs": [],
   "source": [
    "# Load population data\n",
    "pop_df = pd.read_csv('population-and-demography.csv')\n",
    "# rename population column\n",
    "pop_df.rename(columns={'Population - Sex: all - Age: all - Variant: estimates':'Population_1999'}, inplace=True)\n",
    "\n",
    "pop_df['Entity'] = pop_df['Entity'].replace({\n",
    "    'Brunei': 'Brunei Darussalam',\n",
    "    'Cape Verde': 'Cabo Verde',\n",
    "    'Democratic Republic of Congo': 'DR of the Congo',\n",
    "    'Laos': \"Lao People's DR\",\n",
    "    'Micronesia (country)': 'Micronesia',\n",
    "    'Moldova': 'Republic of Moldova',\n",
    "    'Tanzania': 'United Republic of Tanzania',\n",
    "    'Eswatini': 'Swaziland', \n",
    "    'Saint Vincent and the Grenadines': 'St Vincent and the Grenadines',\n",
    "    'South Korea': 'Republic of Korea',\n",
    "    'Syria': 'Syrian Arab Republic',\n",
    "    'East Timor': 'Timor-Leste'\n",
    "})\n",
    "\n",
    "# Calculate population growth rate\n",
    "df[\"Population Growth Rate\"] = (\n",
    "    df.groupby(\"Country\")[\"Population\"]\n",
    "    .apply(lambda x: x.diff() / x.shift()).reset_index(level=0, drop=True)\n",
    ")\n",
    "\n",
    "# Filter datasets for years 1999 and 2000\n",
    "df_1999 = pop_df[pop_df[\"Year\"] == 1999]\n",
    "df_2000 = df[df[\"Year\"] == 2000]\n",
    "\n",
    "# Manually insert North Korea Population data\n",
    "nk_row = pd.DataFrame({\"Entity\": [\"Democratic People's Republic of Korea\"], \"Code\": [\"CODE\"], \"Year\": [1999], \"Population_1999\": [23204498]})\n",
    "df_1999 = pd.concat([df_1999, nk_row], ignore_index=True)\n",
    "\n",
    "# Merge the 2000 data with the 1999 poopulation data\n",
    "df_merged = pd.merge(df_2000, df_1999, left_on=\"Country\", right_on=\"Entity\", suffixes=(\"_2000\", \"_1999\"))\n",
    "\n",
    "# Calculate the population growth rate for the year 2000\n",
    "df_merged[\"Population Growth Rate\"] = (\n",
    "    (df_merged[\"Population\"] - df_merged[\"Population_1999\"]) \n",
    "    / df_merged[\"Population_1999\"]\n",
    ")\n",
    "\n",
    "# Create dictionary of population growth rates\n",
    "growth_rate_dict = dict(zip(df_merged[\"Country\"], df_merged[\"Population Growth Rate\"]))\n",
    "\n",
    "# Add the Growth Rate from 2000 into the main df\n",
    "df.loc[df[\"Year\"] == 2000, \"Population Growth Rate\"] = df.loc[df[\"Country\"].map(growth_rate_dict).notna(), \"Country\"].map(growth_rate_dict)"
   ]
  },
  {
   "cell_type": "markdown",
   "metadata": {},
   "source": [
    "### BMI Classification"
   ]
  },
  {
   "cell_type": "code",
   "execution_count": 19,
   "metadata": {},
   "outputs": [],
   "source": [
    "# Create columns for each BMI classification based on the BMI range\n",
    "df['UnderweightBMI'] = (df['BMI'] < 18.5).astype(int)\n",
    "df['HealthyWeightBMI'] = ((df['BMI'] >= 18.5) & (df['BMI'] < 25)).astype(int)\n",
    "df['OverweightBMI'] = ((df['BMI'] >= 25) & (df['BMI'] < 30)).astype(int)\n",
    "df['ObesityBMI'] = (df['BMI'] >= 30).astype(int)"
   ]
  },
  {
   "cell_type": "markdown",
   "metadata": {},
   "source": [
    "### Income Classification"
   ]
  },
  {
   "cell_type": "code",
   "execution_count": 20,
   "metadata": {},
   "outputs": [],
   "source": [
    "# Low-income economies: GNI per capita of $1,135 or less\n",
    "# Lower-middle-income economies: GNI per capita between $1,136 and $4,465\n",
    "# Upper-middle-income economies: GNI per capita between $4,466 and $13,845\n",
    "# High-income economies: GNI per capita of $13,846 or more\n",
    "df['LowIncome'] = (df['GDP'] < 1136).astype(int)\n",
    "df['LowerMiddleIncome'] = ((df['GDP'] >= 1136) & (df['GDP'] < 4466)).astype(int)\n",
    "df['UpperMiddleIncome'] = ((df['GDP'] >= 4466) & (df['GDP'] < 13846)).astype(int)\n",
    "df['HighIncome'] = (df['GDP'] >= 13846).astype(int)"
   ]
  },
  {
   "cell_type": "markdown",
   "metadata": {},
   "source": [
    "### Health Coverage Index \n",
    "- Positive index means above average \n",
    "- Negative index means below average\n",
    "- Zero index means exactly average"
   ]
  },
  {
   "cell_type": "code",
   "execution_count": 21,
   "metadata": {},
   "outputs": [],
   "source": [
    "# Reverse necessary columns so a higher number means better health\n",
    "for col in ['Measles', 'HIV/AIDS', 'Thinness 1-19 Years', 'Thinness 5-9 Years']:\n",
    "    df[f'{col}_adjusted'] = df[col].max() - df[col]\n",
    "\n",
    "# Standardize all columns using z-score normalization\n",
    "for col in ['Hepatitis B', 'Polio', 'Diphtheria', 'Measles_adjusted', 'HIV/AIDS_adjusted', 'Thinness 1-19 Years_adjusted', 'Thinness 5-9 Years_adjusted']:\n",
    "    df[f'{col}_z'] = (df[col] - df[col].mean()) / df[col].std()\n",
    "\n",
    "# Combine into a health index by taking the weighted mean of z-scores\n",
    "z_cols = [f'{col}_z' for col in ['Hepatitis B', 'Polio', 'Diphtheria', 'Measles_adjusted', 'HIV/AIDS_adjusted', 'Thinness 1-19 Years_adjusted', 'Thinness 5-9 Years_adjusted']]\n",
    "weights = {\n",
    "    'Hepatitis B_z': 0.2,\n",
    "    'Polio_z': 0.2,\n",
    "    'Diphtheria_z': 0.2,\n",
    "    'Measles_adjusted_z': 0.15,\n",
    "    'HIV/AIDS_adjusted_z': 0.1,\n",
    "    'Thinness 1-19 Years_adjusted_z': 0.075,\n",
    "    'Thinness 5-9 Years_adjusted_z': 0.075,\n",
    "}\n",
    "\n",
    "# Normalize weights \n",
    "total_weight = sum(weights.values())\n",
    "weights = {k: v / total_weight for k, v in weights.items()}\n",
    "\n",
    "# Calculate the health index (handles missing data)\n",
    "df['Health Coverage Index'] = df[z_cols].apply(\n",
    "    lambda row: np.average(\n",
    "        row.dropna(), \n",
    "        weights=[weights[col] for col in row.index if col in weights]\n",
    "    ) if not row.isnull().all() else np.nan,\n",
    "    axis=1\n",
    ")\n",
    "\n",
    "# Drop unnecessary rows\n",
    "df = df.drop(columns={'Measles_adjusted',\n",
    "       'HIV/AIDS_adjusted', 'Thinness 1-19 Years_adjusted',\n",
    "       'Thinness 5-9 Years_adjusted', 'Hepatitis B_z', 'Polio_z',\n",
    "       'Diphtheria_z', 'Measles_adjusted_z', 'HIV/AIDS_adjusted_z',\n",
    "       'Thinness 1-19 Years_adjusted_z', 'Thinness 5-9 Years_adjusted_z'})"
   ]
  },
  {
   "cell_type": "markdown",
   "metadata": {},
   "source": [
    "### Human Rights"
   ]
  },
  {
   "cell_type": "code",
   "execution_count": 22,
   "metadata": {},
   "outputs": [],
   "source": [
    "rights_df = pd.read_csv('human-rights-index-vdem.csv')\n",
    "\n",
    "# Rename Columns for clarity\n",
    "rights_df = rights_df.rename(columns={'Entity': 'Country'})\n",
    "\n",
    "# Create the 'Human Rights' column in df using the mapping\n",
    "rights_mapping = rights_df.set_index(['Country', 'Year'])['Civil liberties index (best estimate, aggregate: average)'].to_dict()\n",
    "df['Human Rights'] = df.apply(lambda row: rights_mapping.get((row['Country'], row['Year']), None), axis=1)"
   ]
  },
  {
   "cell_type": "markdown",
   "metadata": {},
   "source": [
    "### Electoral Democracy"
   ]
  },
  {
   "cell_type": "code",
   "execution_count": 23,
   "metadata": {},
   "outputs": [],
   "source": [
    "democracy_df = pd.read_csv('electoral-democracy-index.csv')\n",
    "\n",
    "# Rename Columns for clarity\n",
    "democracy_df = democracy_df.rename(columns={'Entity': 'Country'})\n",
    "\n",
    "# Create 'Democracy' column\n",
    "democracy_mapping = democracy_df.set_index(['Country', 'Year'])['Electoral democracy index (best estimate, aggregate: average)'].to_dict()\n",
    "df['Democracy'] = df.apply(lambda row: democracy_mapping.get((row['Country'], row['Year']), None), axis=1)"
   ]
  },
  {
   "cell_type": "markdown",
   "metadata": {},
   "source": [
    "### Armed Personnel"
   ]
  },
  {
   "cell_type": "code",
   "execution_count": 24,
   "metadata": {},
   "outputs": [],
   "source": [
    "army_df = pd.read_csv('armed-forces-personnel-percent.csv')\n",
    "\n",
    "# Rename Columns for clarity\n",
    "army_df = army_df.rename(columns={'Entity': 'Country'})\n",
    "\n",
    "# Create 'Army Personnel' column\n",
    "army_mapping = army_df.set_index(['Country', 'Year'])['Armed forces personnel (% of total population)'].to_dict()\n",
    "df['Armed Personnel'] = df.apply(lambda row: army_mapping.get((row['Country'], row['Year']), None), axis=1)"
   ]
  },
  {
   "cell_type": "markdown",
   "metadata": {},
   "source": [
    "### Suicide Rate"
   ]
  },
  {
   "cell_type": "code",
   "execution_count": 25,
   "metadata": {},
   "outputs": [],
   "source": [
    "suicide_df = pd.read_csv('death-rate-from-suicides-gho.csv')\n",
    "\n",
    "# Rename Columns for clarity\n",
    "suicide_df = suicide_df.rename(columns={'Entity': 'Country'})\n",
    "\n",
    "# Create 'Suicide Rate' column\n",
    "suicide_mapping = suicide_df.set_index(['Country', 'Year'])['Age-standardized death rate from self-harm amongboth sexes'].to_dict()\n",
    "df['Suicide Rate'] = df.apply(lambda row: suicide_mapping.get((row['Country'], row['Year']), None), axis=1)"
   ]
  },
  {
   "cell_type": "markdown",
   "metadata": {},
   "source": [
    "### Agriculture Employment"
   ]
  },
  {
   "cell_type": "code",
   "execution_count": 26,
   "metadata": {},
   "outputs": [],
   "source": [
    "agr_df = pd.read_csv('agriculture-value-added-per-worker-wdi.csv')\n",
    "\n",
    "# Rename Columns for clarity\n",
    "agr_df = agr_df.rename(columns={'Entity': 'Country'})\n",
    "\n",
    "# Create 'Emigration' column\n",
    "agr_mapping = agr_df.set_index(['Country', 'Year'])[\"Agriculture, forestry, and fishing, value added per worker (constant 2015 US$)\"].to_dict()\n",
    "df['Agriculture Employment'] = df.apply(lambda row: agr_mapping.get((row['Country'], row['Year']), None), axis=1)"
   ]
  },
  {
   "cell_type": "markdown",
   "metadata": {},
   "source": [
    "### KNN"
   ]
  },
  {
   "cell_type": "code",
   "execution_count": 27,
   "metadata": {},
   "outputs": [],
   "source": [
    "# Store the 'Country' column temporarily in order to perform KNN\n",
    "country_col = df['Country']\n",
    "df = df.drop(columns=['Country'])\n",
    "\n",
    "# Apply KNN Imputer for Remaining NaN Values\n",
    "knn_imputer = KNNImputer(n_neighbors=2)\n",
    "df = pd.DataFrame(knn_imputer.fit_transform(df), columns=df.columns)\n",
    "\n",
    "# Re-add 'Country' to the DataFrame\n",
    "df['Country'] = country_col.values\n",
    "df = df[['Country'] + [col for col in df.columns if col != 'Country']]"
   ]
  },
  {
   "cell_type": "code",
   "execution_count": 28,
   "metadata": {},
   "outputs": [],
   "source": [
    "df.to_csv('LifeExpectancyClean.csv')"
   ]
  }
 ],
 "metadata": {
  "colab": {
   "provenance": []
  },
  "kernelspec": {
   "display_name": "Python 3",
   "language": "python",
   "name": "python3"
  },
  "language_info": {
   "codemirror_mode": {
    "name": "ipython",
    "version": 3
   },
   "file_extension": ".py",
   "mimetype": "text/x-python",
   "name": "python",
   "nbconvert_exporter": "python",
   "pygments_lexer": "ipython3",
   "version": "3.10.15"
  }
 },
 "nbformat": 4,
 "nbformat_minor": 0
}
