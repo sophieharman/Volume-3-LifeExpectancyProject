{
 "cells": [
  {
   "cell_type": "markdown",
   "metadata": {
    "id": "GgX0w0tIuWNz"
   },
   "source": [
    "# Feature Engineering"
   ]
  },
  {
   "cell_type": "code",
   "execution_count": 49,
   "metadata": {},
   "outputs": [],
   "source": [
    "import numpy as np\n",
    "import pandas as pd"
   ]
  },
  {
   "cell_type": "code",
   "execution_count": null,
   "metadata": {},
   "outputs": [],
   "source": [
    "# Once data cleaning is complete, we'll switch to reading in the cleaned version. \n",
    "# For now, using the raw data to verify that the code functions as expected.\n",
    "df = pd.read_csv('LifeExpectancyDraft.csv')"
   ]
  },
  {
   "cell_type": "markdown",
   "metadata": {},
   "source": [
    "Population Density"
   ]
  },
  {
   "cell_type": "code",
   "execution_count": 52,
   "metadata": {},
   "outputs": [],
   "source": [
    "# Load Area Data\n",
    "area_df = pd.read_csv('LandAreakm.csv')\n",
    "\n",
    "# Rename Columns for clarity\n",
    "area_df = area_df.rename(columns={'Entity': 'Country', 'Land area (sq. km)': 'Area'})\n",
    "\n",
    "# Add 'Area' Column to df\n",
    "area_df = area_df.groupby('Country', as_index=False).agg({'Area': 'first'})\n",
    "df = df.merge(area_df[['Country', 'Area']], on='Country', how='left')\n",
    "\n",
    "# Drop Duplicate Rows\n",
    "df = df.drop_duplicates()\n",
    "\n",
    "# Create Population Density Column\n",
    "df['PopulationDensity'] = df['Population'] / df['Area']\n",
    "\n",
    "# Remove Area Column\n",
    "df = df.drop('Area', axis=1)"
   ]
  },
  {
   "cell_type": "markdown",
   "metadata": {},
   "source": [
    "BMI Classification"
   ]
  },
  {
   "cell_type": "code",
   "execution_count": 53,
   "metadata": {},
   "outputs": [],
   "source": [
    "# Create columns for each BMI classification based on the BMI range\n",
    "df['UnderweightBMI'] = (df[' BMI '] < 18.5).astype(int)\n",
    "df['HealthyWeightBMI'] = ((df[' BMI '] >= 18.5) & (df[' BMI '] < 25)).astype(int)\n",
    "df['OverweightBMI'] = ((df[' BMI '] >= 25) & (df[' BMI '] < 30)).astype(int)\n",
    "df['ObesityBMI'] = (df[' BMI '] >= 30).astype(int)"
   ]
  },
  {
   "cell_type": "markdown",
   "metadata": {},
   "source": [
    "Income Classification"
   ]
  },
  {
   "cell_type": "code",
   "execution_count": 54,
   "metadata": {},
   "outputs": [],
   "source": [
    "# Low-income economies: GNI per capita of $1,135 or less\n",
    "# Lower-middle-income economies: GNI per capita between $1,136 and $4,465\n",
    "# Upper-middle-income economies: GNI per capita between $4,466 and $13,845\n",
    "# High-income economies: GNI per capita of $13,846 or more\n",
    "df['LowIncome'] = (df['GDP'] < 1136).astype(int)\n",
    "df['LowerMiddleIncome'] = ((df['GDP'] >= 1136) & (df['GDP'] < 4466)).astype(int)\n",
    "df['UpperMiddleIncome'] = ((df['GDP'] >= 4466) & (df['GDP'] < 13846)).astype(int)\n",
    "df['HighIncome'] = (df['GDP'] >= 13846).astype(int)"
   ]
  },
  {
   "cell_type": "code",
   "execution_count": null,
   "metadata": {},
   "outputs": [],
   "source": [
    "df.to_csv('LifeExpectancyClean.csv')"
   ]
  }
 ],
 "metadata": {
  "colab": {
   "provenance": []
  },
  "kernelspec": {
   "display_name": "Python 3",
   "name": "python3"
  },
  "language_info": {
   "codemirror_mode": {
    "name": "ipython",
    "version": 3
   },
   "file_extension": ".py",
   "mimetype": "text/x-python",
   "name": "python",
   "nbconvert_exporter": "python",
   "pygments_lexer": "ipython3",
   "version": "3.11.5"
  }
 },
 "nbformat": 4,
 "nbformat_minor": 0
}
