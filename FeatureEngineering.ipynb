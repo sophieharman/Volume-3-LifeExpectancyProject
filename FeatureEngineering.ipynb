{
 "cells": [
  {
   "cell_type": "markdown",
   "metadata": {
    "id": "GgX0w0tIuWNz"
   },
   "source": [
    "# Feature Engineering"
   ]
  },
  {
   "cell_type": "code",
   "execution_count": 1,
   "metadata": {},
   "outputs": [],
   "source": [
    "import numpy as np\n",
    "import pandas as pd"
   ]
  },
  {
   "cell_type": "code",
   "execution_count": 42,
   "metadata": {},
   "outputs": [],
   "source": [
    "# Read in cleaned data\n",
    "df = pd.read_csv('LifeExpectancyDraft.csv')"
   ]
  },
  {
   "cell_type": "markdown",
   "metadata": {},
   "source": [
    "Population Density"
   ]
  },
  {
   "cell_type": "code",
   "execution_count": 43,
   "metadata": {},
   "outputs": [],
   "source": [
    "# Load Area Data\n",
    "area_df = pd.read_csv('LandAreakm.csv')\n",
    "\n",
    "# Rename Columns for clarity\n",
    "area_df = area_df.rename(columns={'Entity': 'Country', 'Land area (sq. km)': 'Area'})\n",
    "\n",
    "# Add 'Area' Column to df\n",
    "area_df = area_df.groupby('Country', as_index=False).agg({'Area': 'first'})\n",
    "df = df.merge(area_df[['Country', 'Area']], on='Country', how='left')\n",
    "\n",
    "# Drop Duplicate Rows\n",
    "df = df.drop_duplicates()\n",
    "\n",
    "# Create Population Density Column\n",
    "df['PopulationDensity'] = df['Population'] / df['Area']\n",
    "\n",
    "# Remove Area Column\n",
    "df = df.drop('Area', axis=1)"
   ]
  },
  {
   "cell_type": "markdown",
   "metadata": {},
   "source": [
    "Population Growth Rate"
   ]
  },
  {
   "cell_type": "code",
   "execution_count": 64,
   "metadata": {},
   "outputs": [],
   "source": [
    "# Load population data\n",
    "pop_df = pd.read_csv('population-and-demography.csv')\n",
    "# rename population column\n",
    "pop_df.rename(columns={'Population - Sex: all - Age: all - Variant: estimates':'Population_1999'}, inplace=True)\n",
    "\n",
    "pop_df['Entity'] = pop_df['Entity'].replace({\n",
    "    'Brunei': 'Brunei Darussalam',\n",
    "    'Cape Verde': 'Cabo Verde',\n",
    "    'Democratic Republic of Congo': 'DR of the Congo',\n",
    "    'Laos': \"Lao People's DR\",\n",
    "    'Micronesia (country)': 'Micronesia',\n",
    "    'Moldova': 'Republic of Moldova',\n",
    "    'Tanzania': 'United Republic of Tanzania',\n",
    "    'Eswatini': 'Swaziland', \n",
    "    'Saint Vincent and the Grenadines': 'St Vincent and the Grenadines',\n",
    "    'South Korea': 'Republic of Korea',\n",
    "    'Syria': 'Syrian Arab Republic',\n",
    "    'East Timor': 'Timor-Leste'\n",
    "})\n",
    "\n",
    "# Calculate population growth rate\n",
    "df[\"Population Growth Rate\"] = (\n",
    "    df.groupby(\"Country\")[\"Population\"]\n",
    "    .apply(lambda x: x.diff() / x.shift()).reset_index(level=0, drop=True)\n",
    ")\n",
    "\n",
    "# Filter datasets for years 1999 and 2000\n",
    "df_1999 = pop_df[pop_df[\"Year\"] == 1999]\n",
    "df_2000 = df[df[\"Year\"] == 2000]\n",
    "\n",
    "# Manually insert North Korea Population data\n",
    "nk_row = pd.DataFrame({\"Entity\": [\"Democratic People's Republic of Korea\"], \"Code\": [\"CODE\"], \"Year\": [1999], \"Population_1999\": [23204498]})\n",
    "df_1999 = pd.concat([df_1999, nk_row], ignore_index=True)\n",
    "\n",
    "# Merge the 2000 data with the 1999 poopulation data\n",
    "df_merged = pd.merge(df_2000, df_1999, left_on=\"Country\", right_on=\"Entity\", suffixes=(\"_2000\", \"_1999\"))\n",
    "\n",
    "# Calculate the population growth rate for the year 2000\n",
    "df_merged[\"Population Growth Rate\"] = (\n",
    "    (df_merged[\"Population\"] - df_merged[\"Population_1999\"]) \n",
    "    / df_merged[\"Population_1999\"]\n",
    ")\n",
    "\n",
    "# Create dictionary of population growth rates\n",
    "growth_rate_dict = dict(zip(df_merged[\"Country\"], df_merged[\"Population Growth Rate\"]))\n",
    "\n",
    "# Add the Growth Rate from 2000 into the main df\n",
    "df.loc[df[\"Year\"] == 2000, \"Population Growth Rate\"] = df.loc[df[\"Country\"].map(growth_rate_dict).notna(), \"Country\"].map(growth_rate_dict)"
   ]
  },
  {
   "cell_type": "markdown",
   "metadata": {},
   "source": [
    "BMI Classification"
   ]
  },
  {
   "cell_type": "code",
   "execution_count": 5,
   "metadata": {},
   "outputs": [],
   "source": [
    "# Create columns for each BMI classification based on the BMI range\n",
    "df['UnderweightBMI'] = (df['BMI'] < 18.5).astype(int)\n",
    "df['HealthyWeightBMI'] = ((df['BMI'] >= 18.5) & (df['BMI'] < 25)).astype(int)\n",
    "df['OverweightBMI'] = ((df['BMI'] >= 25) & (df['BMI'] < 30)).astype(int)\n",
    "df['ObesityBMI'] = (df['BMI'] >= 30).astype(int)"
   ]
  },
  {
   "cell_type": "markdown",
   "metadata": {},
   "source": [
    "Income Classification"
   ]
  },
  {
   "cell_type": "code",
   "execution_count": 6,
   "metadata": {},
   "outputs": [],
   "source": [
    "# Low-income economies: GNI per capita of $1,135 or less\n",
    "# Lower-middle-income economies: GNI per capita between $1,136 and $4,465\n",
    "# Upper-middle-income economies: GNI per capita between $4,466 and $13,845\n",
    "# High-income economies: GNI per capita of $13,846 or more\n",
    "df['LowIncome'] = (df['GDP'] < 1136).astype(int)\n",
    "df['LowerMiddleIncome'] = ((df['GDP'] >= 1136) & (df['GDP'] < 4466)).astype(int)\n",
    "df['UpperMiddleIncome'] = ((df['GDP'] >= 4466) & (df['GDP'] < 13846)).astype(int)\n",
    "df['HighIncome'] = (df['GDP'] >= 13846).astype(int)"
   ]
  },
  {
   "cell_type": "markdown",
   "metadata": {},
   "source": [
    "Health Coverage Index \n",
    "- Positive index means above average \n",
    "- Negative index means below average\n",
    "- Zero index means exactly average"
   ]
  },
  {
   "cell_type": "code",
   "execution_count": 7,
   "metadata": {},
   "outputs": [],
   "source": [
    "# Reverse necessary columns so a higher number means better health\n",
    "for col in ['Measles', 'HIV/AIDS', 'Thinness 1-19 Years', 'Thinness 5-9 Years']:\n",
    "    df[f'{col}_adjusted'] = df[col].max() - df[col]\n",
    "\n",
    "# Standardize all columns using z-score normalization\n",
    "for col in ['Hepatitis B', 'Polio', 'Diphtheria', 'Measles_adjusted', 'HIV/AIDS_adjusted', 'Thinness 1-19 Years_adjusted', 'Thinness 5-9 Years_adjusted']:\n",
    "    df[f'{col}_z'] = (df[col] - df[col].mean()) / df[col].std()\n",
    "\n",
    "# Combine into a health index by taking the weighted mean of z-scores\n",
    "z_cols = [f'{col}_z' for col in ['Hepatitis B', 'Polio', 'Diphtheria', 'Measles_adjusted', 'HIV/AIDS_adjusted', 'Thinness 1-19 Years_adjusted', 'Thinness 5-9 Years_adjusted']]\n",
    "weights = {\n",
    "    'Hepatitis B_z': 0.2,\n",
    "    'Polio_z': 0.2,\n",
    "    'Diphtheria_z': 0.2,\n",
    "    'Measles_adjusted_z': 0.15,\n",
    "    'HIV/AIDS_adjusted_z': 0.1,\n",
    "    'Thinness 1-19 Years_adjusted_z': 0.075,\n",
    "    'Thinness 5-9 Years_adjusted_z': 0.075,\n",
    "}\n",
    "\n",
    "# Normalize weights \n",
    "total_weight = sum(weights.values())\n",
    "weights = {k: v / total_weight for k, v in weights.items()}\n",
    "\n",
    "# Calculate the health index (handles missing data)\n",
    "df['Health Coverage Index'] = df[z_cols].apply(\n",
    "    lambda row: np.average(\n",
    "        row.dropna(), \n",
    "        weights=[weights[col] for col in row.index if col in weights]\n",
    "    ) if not row.isnull().all() else np.nan,\n",
    "    axis=1\n",
    ")\n",
    "\n",
    "# Drop unnecessary rows\n",
    "df = df.drop(columns={'Measles_adjusted',\n",
    "       'HIV/AIDS_adjusted', 'Thinness 1-19 Years_adjusted',\n",
    "       'Thinness 5-9 Years_adjusted', 'Hepatitis B_z', 'Polio_z',\n",
    "       'Diphtheria_z', 'Measles_adjusted_z', 'HIV/AIDS_adjusted_z',\n",
    "       'Thinness 1-19 Years_adjusted_z', 'Thinness 5-9 Years_adjusted_z'})"
   ]
  },
  {
   "cell_type": "code",
   "execution_count": 24,
   "metadata": {},
   "outputs": [],
   "source": [
    "df.to_csv('LifeExpectancyClean.csv')"
   ]
  }
 ],
 "metadata": {
  "colab": {
   "provenance": []
  },
  "kernelspec": {
   "display_name": "base",
   "language": "python",
   "name": "python3"
  },
  "language_info": {
   "codemirror_mode": {
    "name": "ipython",
    "version": 3
   },
   "file_extension": ".py",
   "mimetype": "text/x-python",
   "name": "python",
   "nbconvert_exporter": "python",
   "pygments_lexer": "ipython3",
   "version": "3.9.18"
  }
 },
 "nbformat": 4,
 "nbformat_minor": 0
}
