{
 "cells": [
  {
   "cell_type": "markdown",
   "metadata": {
    "id": "GgX0w0tIuWNz"
   },
   "source": [
    "# Feature Engineering"
   ]
  },
  {
   "cell_type": "code",
   "execution_count": 90,
   "metadata": {},
   "outputs": [],
   "source": [
    "import csv\n",
    "import numpy as np\n",
    "import pandas as pd\n",
    "from sklearn.impute import KNNImputer"
   ]
  },
  {
   "cell_type": "code",
   "execution_count": 91,
   "metadata": {},
   "outputs": [],
   "source": [
    "df = pd.read_csv('LifeExpectancyDraft.csv')"
   ]
  },
  {
   "cell_type": "markdown",
   "metadata": {},
   "source": [
    "Population Density"
   ]
  },
  {
   "cell_type": "code",
   "execution_count": 92,
   "metadata": {},
   "outputs": [],
   "source": [
    "# Load Area Data\n",
    "area_df = pd.read_csv('LandAreakm.csv')\n",
    "\n",
    "# Rename Columns for clarity\n",
    "area_df = area_df.rename(columns={'Entity': 'Country', 'Land area (sq. km)': 'Area'})\n",
    "\n",
    "# Add 'Area' Column to df\n",
    "area_df = area_df.groupby('Country', as_index=False).agg({'Area': 'first'})\n",
    "df = df.merge(area_df[['Country', 'Area']], on='Country', how='left')\n",
    "\n",
    "# Drop Duplicate Rows\n",
    "df = df.drop_duplicates()\n",
    "\n",
    "# Create Population Density Column\n",
    "df['PopulationDensity'] = df['Population'] / df['Area']\n",
    "\n",
    "# Remove Area Column\n",
    "df = df.drop('Area', axis=1)"
   ]
  },
  {
   "cell_type": "markdown",
   "metadata": {},
   "source": [
    "BMI Classification"
   ]
  },
  {
   "cell_type": "code",
   "execution_count": 93,
   "metadata": {},
   "outputs": [],
   "source": [
    "# Create columns for each BMI classification based on the BMI range\n",
    "df['UnderweightBMI'] = (df['BMI'] < 18.5).astype(int)\n",
    "df['HealthyWeightBMI'] = ((df['BMI'] >= 18.5) & (df['BMI'] < 25)).astype(int)\n",
    "df['OverweightBMI'] = ((df['BMI'] >= 25) & (df['BMI'] < 30)).astype(int)\n",
    "df['ObesityBMI'] = (df['BMI'] >= 30).astype(int)"
   ]
  },
  {
   "cell_type": "markdown",
   "metadata": {},
   "source": [
    "Income Classification"
   ]
  },
  {
   "cell_type": "code",
   "execution_count": 94,
   "metadata": {},
   "outputs": [],
   "source": [
    "# Low-income economies: GNI per capita of $1,135 or less\n",
    "# Lower-middle-income economies: GNI per capita between $1,136 and $4,465\n",
    "# Upper-middle-income economies: GNI per capita between $4,466 and $13,845\n",
    "# High-income economies: GNI per capita of $13,846 or more\n",
    "df['LowIncome'] = (df['GDP'] < 1136).astype(int)\n",
    "df['LowerMiddleIncome'] = ((df['GDP'] >= 1136) & (df['GDP'] < 4466)).astype(int)\n",
    "df['UpperMiddleIncome'] = ((df['GDP'] >= 4466) & (df['GDP'] < 13846)).astype(int)\n",
    "df['HighIncome'] = (df['GDP'] >= 13846).astype(int)"
   ]
  },
  {
   "cell_type": "markdown",
   "metadata": {},
   "source": [
    "Health Coverage Index \n",
    "- Positive index means above average \n",
    "- Negative index means below average\n",
    "- Zero index means exactly average"
   ]
  },
  {
   "cell_type": "code",
   "execution_count": 95,
   "metadata": {},
   "outputs": [],
   "source": [
    "# Reverse necessary columns so a higher number means better health\n",
    "for col in ['Measles', 'HIV/AIDS', 'Thinness 1-19 Years', 'Thinness 5-9 Years']:\n",
    "    df[f'{col}_adjusted'] = df[col].max() - df[col]\n",
    "\n",
    "# Standardize all columns using z-score normalization\n",
    "for col in ['Hepatitis B', 'Polio', 'Diphtheria', 'Measles_adjusted', 'HIV/AIDS_adjusted', 'Thinness 1-19 Years_adjusted', 'Thinness 5-9 Years_adjusted']:\n",
    "    df[f'{col}_z'] = (df[col] - df[col].mean()) / df[col].std()\n",
    "\n",
    "# Combine into a health index by taking the weighted mean of z-scores\n",
    "z_cols = [f'{col}_z' for col in ['Hepatitis B', 'Polio', 'Diphtheria', 'Measles_adjusted', 'HIV/AIDS_adjusted', 'Thinness 1-19 Years_adjusted', 'Thinness 5-9 Years_adjusted']]\n",
    "weights = {\n",
    "    'Hepatitis B_z': 0.2,\n",
    "    'Polio_z': 0.2,\n",
    "    'Diphtheria_z': 0.2,\n",
    "    'Measles_adjusted_z': 0.15,\n",
    "    'HIV/AIDS_adjusted_z': 0.1,\n",
    "    'Thinness 1-19 Years_adjusted_z': 0.075,\n",
    "    'Thinness 5-9 Years_adjusted_z': 0.075,\n",
    "}\n",
    "\n",
    "# Normalize weights \n",
    "total_weight = sum(weights.values())\n",
    "weights = {k: v / total_weight for k, v in weights.items()}\n",
    "\n",
    "# Calculate the health index (handles missing data)\n",
    "df['Health Coverage Index'] = df[z_cols].apply(\n",
    "    lambda row: np.average(\n",
    "        row.dropna(), \n",
    "        weights=[weights[col] for col in row.index if col in weights]\n",
    "    ) if not row.isnull().all() else np.nan,\n",
    "    axis=1\n",
    ")\n",
    "\n",
    "# Drop unnecessary rows\n",
    "df = df.drop(columns={'Measles_adjusted',\n",
    "       'HIV/AIDS_adjusted', 'Thinness 1-19 Years_adjusted',\n",
    "       'Thinness 5-9 Years_adjusted', 'Hepatitis B_z', 'Polio_z',\n",
    "       'Diphtheria_z', 'Measles_adjusted_z', 'HIV/AIDS_adjusted_z',\n",
    "       'Thinness 1-19 Years_adjusted_z', 'Thinness 5-9 Years_adjusted_z'})"
   ]
  },
  {
   "cell_type": "markdown",
   "metadata": {},
   "source": [
    "Human Rights"
   ]
  },
  {
   "cell_type": "code",
   "execution_count": 96,
   "metadata": {},
   "outputs": [],
   "source": [
    "rights_df = pd.read_csv('human-rights-index-vdem.csv')\n",
    "\n",
    "# Rename Columns for clarity\n",
    "rights_df = rights_df.rename(columns={'Entity': 'Country'})\n",
    "\n",
    "# Create the 'Human Rights' column in df using the mapping\n",
    "rights_mapping = rights_df.set_index(['Country', 'Year'])['Civil liberties index (best estimate, aggregate: average)'].to_dict()\n",
    "df['Human Rights'] = df.apply(lambda row: rights_mapping.get((row['Country'], row['Year']), None), axis=1)"
   ]
  },
  {
   "cell_type": "markdown",
   "metadata": {},
   "source": [
    "Electoral Democracy"
   ]
  },
  {
   "cell_type": "code",
   "execution_count": 97,
   "metadata": {},
   "outputs": [],
   "source": [
    "democracy_df = pd.read_csv('electoral-democracy-index.csv')\n",
    "\n",
    "# Rename Columns for clarity\n",
    "democracy_df = democracy_df.rename(columns={'Entity': 'Country'})\n",
    "\n",
    "# Create the 'Human Rights' column in df using the mapping\n",
    "democracy_mapping = democracy_df.set_index(['Country', 'Year'])['Electoral democracy index (best estimate, aggregate: average)'].to_dict()\n",
    "df['Democracy'] = df.apply(lambda row: democracy_mapping.get((row['Country'], row['Year']), None), axis=1)"
   ]
  },
  {
   "cell_type": "markdown",
   "metadata": {},
   "source": [
    "KNN"
   ]
  },
  {
   "cell_type": "code",
   "execution_count": 98,
   "metadata": {},
   "outputs": [],
   "source": [
    "# Store the 'Country' column temporarily in order to perform KNN\n",
    "country_col = df['Country']\n",
    "df = df.drop(columns=['Country'])\n",
    "\n",
    "# Apply KNN Imputer for Remaining NaN Values\n",
    "knn_imputer = KNNImputer(n_neighbors=2)\n",
    "df = pd.DataFrame(knn_imputer.fit_transform(df), columns=df.columns)\n",
    "\n",
    "# Re-add 'Country' to the DataFrame\n",
    "df['Country'] = country_col.values\n",
    "df = df[['Country'] + [col for col in df.columns if col != 'Country']]"
   ]
  },
  {
   "cell_type": "code",
   "execution_count": 99,
   "metadata": {},
   "outputs": [],
   "source": [
    "df.to_csv('LifeExpectancyClean.csv')"
   ]
  }
 ],
 "metadata": {
  "colab": {
   "provenance": []
  },
  "kernelspec": {
   "display_name": "Python 3",
   "name": "python3"
  },
  "language_info": {
   "codemirror_mode": {
    "name": "ipython",
    "version": 3
   },
   "file_extension": ".py",
   "mimetype": "text/x-python",
   "name": "python",
   "nbconvert_exporter": "python",
   "pygments_lexer": "ipython3",
   "version": "3.11.5"
  }
 },
 "nbformat": 4,
 "nbformat_minor": 0
}
