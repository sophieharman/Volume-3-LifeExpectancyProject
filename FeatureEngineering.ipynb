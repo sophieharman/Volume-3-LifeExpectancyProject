{
 "cells": [
  {
   "cell_type": "markdown",
   "metadata": {
    "id": "GgX0w0tIuWNz"
   },
   "source": [
    "# Feature Engineering"
   ]
  },
  {
   "cell_type": "code",
   "execution_count": 122,
   "metadata": {},
   "outputs": [],
   "source": [
    "import csv\n",
    "import numpy as np\n",
    "import pandas as pd\n",
    "from sklearn.impute import KNNImputer"
   ]
  },
  {
   "cell_type": "code",
   "execution_count": 123,
   "metadata": {},
   "outputs": [],
   "source": [
    "# Read in cleaned data\n",
    "df = pd.read_csv('LifeExpectancyDraft.csv')"
   ]
  },
  {
   "cell_type": "markdown",
   "metadata": {},
   "source": [
    "Population Density"
   ]
  },
  {
   "cell_type": "code",
   "execution_count": 124,
   "metadata": {},
   "outputs": [],
   "source": [
    "# Load Area Data\n",
    "area_df = pd.read_csv('LandAreakm.csv')\n",
    "\n",
    "# Rename Columns for clarity\n",
    "area_df = area_df.rename(columns={'Entity': 'Country', 'Land area (sq. km)': 'Area'})\n",
    "\n",
    "# Add 'Area' Column to df\n",
    "area_df = area_df.groupby('Country', as_index=False).agg({'Area': 'first'})\n",
    "df = df.merge(area_df[['Country', 'Area']], on='Country', how='left')\n",
    "\n",
    "# Drop Duplicate Rows\n",
    "df = df.drop_duplicates()\n",
    "\n",
    "# Create Population Density Column\n",
    "df['PopulationDensity'] = df['Population'] / df['Area']\n",
    "\n",
    "# Remove Area Column\n",
    "df = df.drop('Area', axis=1)"
   ]
  },
  {
   "cell_type": "markdown",
   "metadata": {},
   "source": [
    "Population Growth Rate"
   ]
  },
  {
   "cell_type": "code",
   "execution_count": 125,
   "metadata": {},
   "outputs": [
    {
     "name": "stderr",
     "output_type": "stream",
     "text": [
      "C:\\Users\\sophi\\AppData\\Local\\Temp\\ipykernel_18752\\997971887.py:24: FutureWarning: Not prepending group keys to the result index of transform-like apply. In the future, the group keys will be included in the index, regardless of whether the applied function returns a like-indexed object.\n",
      "To preserve the previous behavior, use\n",
      "\n",
      "\t>>> .groupby(..., group_keys=False)\n",
      "\n",
      "To adopt the future behavior and silence this warning, use \n",
      "\n",
      "\t>>> .groupby(..., group_keys=True)\n",
      "  .apply(lambda x: x.diff() / x.shift()).reset_index(level=0, drop=True)\n"
     ]
    }
   ],
   "source": [
    "# Load population data\n",
    "pop_df = pd.read_csv('population-and-demography.csv')\n",
    "# rename population column\n",
    "pop_df.rename(columns={'Population - Sex: all - Age: all - Variant: estimates':'Population_1999'}, inplace=True)\n",
    "\n",
    "pop_df['Entity'] = pop_df['Entity'].replace({\n",
    "    'Brunei': 'Brunei Darussalam',\n",
    "    'Cape Verde': 'Cabo Verde',\n",
    "    'Democratic Republic of Congo': 'DR of the Congo',\n",
    "    'Laos': \"Lao People's DR\",\n",
    "    'Micronesia (country)': 'Micronesia',\n",
    "    'Moldova': 'Republic of Moldova',\n",
    "    'Tanzania': 'United Republic of Tanzania',\n",
    "    'Eswatini': 'Swaziland', \n",
    "    'Saint Vincent and the Grenadines': 'St Vincent and the Grenadines',\n",
    "    'South Korea': 'Republic of Korea',\n",
    "    'Syria': 'Syrian Arab Republic',\n",
    "    'East Timor': 'Timor-Leste'\n",
    "})\n",
    "\n",
    "# Calculate population growth rate\n",
    "df[\"Population Growth Rate\"] = (\n",
    "    df.groupby(\"Country\")[\"Population\"]\n",
    "    .apply(lambda x: x.diff() / x.shift()).reset_index(level=0, drop=True)\n",
    ")\n",
    "\n",
    "# Filter datasets for years 1999 and 2000\n",
    "df_1999 = pop_df[pop_df[\"Year\"] == 1999]\n",
    "df_2000 = df[df[\"Year\"] == 2000]\n",
    "\n",
    "# Manually insert North Korea Population data\n",
    "nk_row = pd.DataFrame({\"Entity\": [\"Democratic People's Republic of Korea\"], \"Code\": [\"CODE\"], \"Year\": [1999], \"Population_1999\": [23204498]})\n",
    "df_1999 = pd.concat([df_1999, nk_row], ignore_index=True)\n",
    "\n",
    "# Merge the 2000 data with the 1999 poopulation data\n",
    "df_merged = pd.merge(df_2000, df_1999, left_on=\"Country\", right_on=\"Entity\", suffixes=(\"_2000\", \"_1999\"))\n",
    "\n",
    "# Calculate the population growth rate for the year 2000\n",
    "df_merged[\"Population Growth Rate\"] = (\n",
    "    (df_merged[\"Population\"] - df_merged[\"Population_1999\"]) \n",
    "    / df_merged[\"Population_1999\"]\n",
    ")\n",
    "\n",
    "# Create dictionary of population growth rates\n",
    "growth_rate_dict = dict(zip(df_merged[\"Country\"], df_merged[\"Population Growth Rate\"]))\n",
    "\n",
    "# Add the Growth Rate from 2000 into the main df\n",
    "df.loc[df[\"Year\"] == 2000, \"Population Growth Rate\"] = df.loc[df[\"Country\"].map(growth_rate_dict).notna(), \"Country\"].map(growth_rate_dict)"
   ]
  },
  {
   "cell_type": "markdown",
   "metadata": {},
   "source": [
    "BMI Classification"
   ]
  },
  {
   "cell_type": "code",
   "execution_count": 126,
   "metadata": {},
   "outputs": [],
   "source": [
    "# Create columns for each BMI classification based on the BMI range\n",
    "df['UnderweightBMI'] = (df['BMI'] < 18.5).astype(int)\n",
    "df['HealthyWeightBMI'] = ((df['BMI'] >= 18.5) & (df['BMI'] < 25)).astype(int)\n",
    "df['OverweightBMI'] = ((df['BMI'] >= 25) & (df['BMI'] < 30)).astype(int)\n",
    "df['ObesityBMI'] = (df['BMI'] >= 30).astype(int)"
   ]
  },
  {
   "cell_type": "markdown",
   "metadata": {},
   "source": [
    "Income Classification"
   ]
  },
  {
   "cell_type": "code",
   "execution_count": 127,
   "metadata": {},
   "outputs": [],
   "source": [
    "# Low-income economies: GNI per capita of $1,135 or less\n",
    "# Lower-middle-income economies: GNI per capita between $1,136 and $4,465\n",
    "# Upper-middle-income economies: GNI per capita between $4,466 and $13,845\n",
    "# High-income economies: GNI per capita of $13,846 or more\n",
    "df['LowIncome'] = (df['GDP'] < 1136).astype(int)\n",
    "df['LowerMiddleIncome'] = ((df['GDP'] >= 1136) & (df['GDP'] < 4466)).astype(int)\n",
    "df['UpperMiddleIncome'] = ((df['GDP'] >= 4466) & (df['GDP'] < 13846)).astype(int)\n",
    "df['HighIncome'] = (df['GDP'] >= 13846).astype(int)"
   ]
  },
  {
   "cell_type": "markdown",
   "metadata": {},
   "source": [
    "Health Coverage Index \n",
    "- Positive index means above average \n",
    "- Negative index means below average\n",
    "- Zero index means exactly average"
   ]
  },
  {
   "cell_type": "code",
   "execution_count": 128,
   "metadata": {},
   "outputs": [],
   "source": [
    "# Reverse necessary columns so a higher number means better health\n",
    "for col in ['Measles', 'HIV/AIDS', 'Thinness 1-19 Years', 'Thinness 5-9 Years']:\n",
    "    df[f'{col}_adjusted'] = df[col].max() - df[col]\n",
    "\n",
    "# Standardize all columns using z-score normalization\n",
    "for col in ['Hepatitis B', 'Polio', 'Diphtheria', 'Measles_adjusted', 'HIV/AIDS_adjusted', 'Thinness 1-19 Years_adjusted', 'Thinness 5-9 Years_adjusted']:\n",
    "    df[f'{col}_z'] = (df[col] - df[col].mean()) / df[col].std()\n",
    "\n",
    "# Combine into a health index by taking the weighted mean of z-scores\n",
    "z_cols = [f'{col}_z' for col in ['Hepatitis B', 'Polio', 'Diphtheria', 'Measles_adjusted', 'HIV/AIDS_adjusted', 'Thinness 1-19 Years_adjusted', 'Thinness 5-9 Years_adjusted']]\n",
    "weights = {\n",
    "    'Hepatitis B_z': 0.2,\n",
    "    'Polio_z': 0.2,\n",
    "    'Diphtheria_z': 0.2,\n",
    "    'Measles_adjusted_z': 0.15,\n",
    "    'HIV/AIDS_adjusted_z': 0.1,\n",
    "    'Thinness 1-19 Years_adjusted_z': 0.075,\n",
    "    'Thinness 5-9 Years_adjusted_z': 0.075,\n",
    "}\n",
    "\n",
    "# Normalize weights \n",
    "total_weight = sum(weights.values())\n",
    "weights = {k: v / total_weight for k, v in weights.items()}\n",
    "\n",
    "# Calculate the health index (handles missing data)\n",
    "df['Health Coverage Index'] = df[z_cols].apply(\n",
    "    lambda row: np.average(\n",
    "        row.dropna(), \n",
    "        weights=[weights[col] for col in row.index if col in weights]\n",
    "    ) if not row.isnull().all() else np.nan,\n",
    "    axis=1\n",
    ")\n",
    "\n",
    "# Drop unnecessary rows\n",
    "df = df.drop(columns={'Measles_adjusted',\n",
    "       'HIV/AIDS_adjusted', 'Thinness 1-19 Years_adjusted',\n",
    "       'Thinness 5-9 Years_adjusted', 'Hepatitis B_z', 'Polio_z',\n",
    "       'Diphtheria_z', 'Measles_adjusted_z', 'HIV/AIDS_adjusted_z',\n",
    "       'Thinness 1-19 Years_adjusted_z', 'Thinness 5-9 Years_adjusted_z'})"
   ]
  },
  {
   "cell_type": "markdown",
   "metadata": {},
   "source": [
    "Human Rights"
   ]
  },
  {
   "cell_type": "code",
   "execution_count": 129,
   "metadata": {},
   "outputs": [],
   "source": [
    "rights_df = pd.read_csv('human-rights-index-vdem.csv')\n",
    "\n",
    "# Rename Columns for clarity\n",
    "rights_df = rights_df.rename(columns={'Entity': 'Country'})\n",
    "\n",
    "# Create the 'Human Rights' column in df using the mapping\n",
    "rights_mapping = rights_df.set_index(['Country', 'Year'])['Civil liberties index (best estimate, aggregate: average)'].to_dict()\n",
    "df['Human Rights'] = df.apply(lambda row: rights_mapping.get((row['Country'], row['Year']), None), axis=1)"
   ]
  },
  {
   "cell_type": "markdown",
   "metadata": {},
   "source": [
    "Electoral Democracy"
   ]
  },
  {
   "cell_type": "code",
   "execution_count": 130,
   "metadata": {},
   "outputs": [],
   "source": [
    "democracy_df = pd.read_csv('electoral-democracy-index.csv')\n",
    "\n",
    "# Rename Columns for clarity\n",
    "democracy_df = democracy_df.rename(columns={'Entity': 'Country'})\n",
    "\n",
    "# Create 'Democracy' column\n",
    "democracy_mapping = democracy_df.set_index(['Country', 'Year'])['Electoral democracy index (best estimate, aggregate: average)'].to_dict()\n",
    "df['Democracy'] = df.apply(lambda row: democracy_mapping.get((row['Country'], row['Year']), None), axis=1)"
   ]
  },
  {
   "cell_type": "markdown",
   "metadata": {},
   "source": [
    "Armed Personnel"
   ]
  },
  {
   "cell_type": "code",
   "execution_count": 131,
   "metadata": {},
   "outputs": [],
   "source": [
    "army_df = pd.read_csv('armed-forces-personnel-percent.csv')\n",
    "\n",
    "# Rename Columns for clarity\n",
    "army_df = army_df.rename(columns={'Entity': 'Country'})\n",
    "\n",
    "# Create 'Army Personnel' column\n",
    "army_mapping = army_df.set_index(['Country', 'Year'])['Armed forces personnel (% of total population)'].to_dict()\n",
    "df['Armed Personnel'] = df.apply(lambda row: army_mapping.get((row['Country'], row['Year']), None), axis=1)"
   ]
  },
  {
   "cell_type": "markdown",
   "metadata": {},
   "source": [
    "Suicide Rate"
   ]
  },
  {
   "cell_type": "code",
   "execution_count": 132,
   "metadata": {},
   "outputs": [],
   "source": [
    "suicide_df = pd.read_csv('death-rate-from-suicides-gho.csv')\n",
    "\n",
    "# Rename Columns for clarity\n",
    "suicide_df = suicide_df.rename(columns={'Entity': 'Country'})\n",
    "\n",
    "# Create 'Suicide Rate' column\n",
    "suicide_mapping = suicide_df.set_index(['Country', 'Year'])['Age-standardized death rate from self-harm amongboth sexes'].to_dict()\n",
    "df['Suicide Rate'] = df.apply(lambda row: suicide_mapping.get((row['Country'], row['Year']), None), axis=1)"
   ]
  },
  {
   "cell_type": "markdown",
   "metadata": {},
   "source": [
    "Agriculture Employment"
   ]
  },
  {
   "cell_type": "code",
   "execution_count": 134,
   "metadata": {},
   "outputs": [],
   "source": [
    "agr_df = pd.read_csv('agriculture-value-added-per-worker-wdi.csv')\n",
    "\n",
    "# Rename Columns for clarity\n",
    "agr_df = agr_df.rename(columns={'Entity': 'Country'})\n",
    "\n",
    "# Create 'Emigration' column\n",
    "agr_mapping = agr_df.set_index(['Country', 'Year'])[\"Agriculture, forestry, and fishing, value added per worker (constant 2015 US$)\"].to_dict()\n",
    "df['Agriculture Employment'] = df.apply(lambda row: agr_mapping.get((row['Country'], row['Year']), None), axis=1)"
   ]
  },
  {
   "cell_type": "markdown",
   "metadata": {},
   "source": [
    "KNN"
   ]
  },
  {
   "cell_type": "code",
   "execution_count": 136,
   "metadata": {},
   "outputs": [],
   "source": [
    "# # Store the 'Country' column temporarily in order to perform KNN\n",
    "# country_col = df['Country']\n",
    "# df = df.drop(columns=['Country'])\n",
    "\n",
    "# # Apply KNN Imputer for Remaining NaN Values\n",
    "# knn_imputer = KNNImputer(n_neighbors=2)\n",
    "# df = pd.DataFrame(knn_imputer.fit_transform(df), columns=df.columns)\n",
    "\n",
    "# # Re-add 'Country' to the DataFrame\n",
    "# df['Country'] = country_col.values\n",
    "# df = df[['Country'] + [col for col in df.columns if col != 'Country']]"
   ]
  },
  {
   "cell_type": "code",
   "execution_count": 137,
   "metadata": {},
   "outputs": [],
   "source": [
    "df.to_csv('LifeExpectancyClean.csv')"
   ]
  },
  {
   "cell_type": "code",
   "execution_count": null,
   "metadata": {},
   "outputs": [
    {
     "name": "stdout",
     "output_type": "stream",
     "text": [
      "0.7664835164835165\n"
     ]
    }
   ],
   "source": [
    "missing_percentage = df[col].isnull().mean()\n",
    "print(missing_percentage)"
   ]
  }
 ],
 "metadata": {
  "colab": {
   "provenance": []
  },
  "kernelspec": {
   "display_name": "base",
   "language": "python",
   "name": "python3"
  },
  "language_info": {
   "codemirror_mode": {
    "name": "ipython",
    "version": 3
   },
   "file_extension": ".py",
   "mimetype": "text/x-python",
   "name": "python",
   "nbconvert_exporter": "python",
   "pygments_lexer": "ipython3",
   "version": "3.11.5"
  }
 },
 "nbformat": 4,
 "nbformat_minor": 0
}
