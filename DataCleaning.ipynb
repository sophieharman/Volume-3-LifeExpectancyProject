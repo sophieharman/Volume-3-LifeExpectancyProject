{
 "cells": [
  {
   "cell_type": "markdown",
   "metadata": {
    "id": "GgX0w0tIuWNz"
   },
   "source": [
    "# Life Expectancy Data Cleaning"
   ]
  },
  {
   "cell_type": "code",
   "execution_count": 39,
   "metadata": {},
   "outputs": [],
   "source": [
    "import numpy as np\n",
    "import pandas as pd"
   ]
  },
  {
   "cell_type": "markdown",
   "metadata": {},
   "source": [
    "Load Raw Data"
   ]
  },
  {
   "cell_type": "code",
   "execution_count": 40,
   "metadata": {},
   "outputs": [],
   "source": [
    "# Load Data\n",
    "df = pd.read_csv(\"LifeExpectancyRaw.csv\")"
   ]
  },
  {
   "cell_type": "markdown",
   "metadata": {},
   "source": [
    "Drop Rows"
   ]
  },
  {
   "cell_type": "code",
   "execution_count": null,
   "metadata": {},
   "outputs": [],
   "source": [
    "# Convert Status Column to Binary\n",
    "df['Status'].replace({'Developed': 1, 'Developing': 0}, inplace=True)\n",
    "\n",
    "# Drop Countries Due to Large Portion of Missing Data\n",
    "df = df[~df['Country'].isin(['South Sudan', 'Cook Islands', 'Niue', 'Saint Kitts and Nevis'])]"
   ]
  },
  {
   "cell_type": "markdown",
   "metadata": {},
   "source": [
    "Convert Columns to Binary"
   ]
  },
  {
   "cell_type": "code",
   "execution_count": 42,
   "metadata": {},
   "outputs": [],
   "source": [
    "# Convert Status Column to Binary\n",
    "df['Status'].replace({'Developed': 1, 'Developing': 0}, inplace=True)"
   ]
  },
  {
   "cell_type": "markdown",
   "metadata": {},
   "source": [
    "Manually Insert Data"
   ]
  },
  {
   "cell_type": "code",
   "execution_count": 43,
   "metadata": {},
   "outputs": [],
   "source": [
    "# Manually insert population\n",
    "# Load Data\n",
    "pop_df = pd.read_csv(\"population-and-demography.csv\")\n",
    "pop_df = pop_df[pop_df['Entity'].isin(['Antigua and Barbuda', 'Bahamas', 'Bahrain', 'Barbados',\n",
    "                 'Bolivia', 'Brunei', 'Congo','Cuba', 'Czechia', \"Cote d'Ivoire\",\n",
    "                 \"North Korea\", 'Democratic Republic of Congo', 'Egypt', 'Eritrea',\n",
    "                 'Gambia', 'Grenada', 'Iran', 'Kuwait', 'Kyrgyzstan', \"Laos\", 'Libya',\n",
    "                 'Micronesia (country)', 'New Zealand', 'Oman', 'Qatar', 'South Korea',\n",
    "                 'Moldova', 'Saint Lucia', 'Saint Vincent and the Grenadines',\n",
    "                 'Saudi Arabia', 'Singapore', 'Slovakia', 'Somalia', 'North Macedonia',\n",
    "                 'United Arab Emirates', 'United Kingdom', 'Tanzania', 'United States',\n",
    "                 'Venezuela', 'Vietnam', 'Yemen'])]\n",
    "\n",
    "pop_df['Entity'] = pop_df['Entity'].replace({\n",
    "    'Bolivia': 'Bolivia (Plurinational State of)',\n",
    "    'Brunei': 'Brunei Darussalam',\n",
    "    \"Cote d'Ivoire\": \"Côte d'Ivoire\",\n",
    "    'Democratic Republic of Congo': 'Democratic Republic of the Congo',\n",
    "    'North Korea': \"Democratic People's Republic of Korea\",\n",
    "    'Iran': 'Iran (Islamic Republic of)',\n",
    "    'South Korea': 'Republic of Korea',\n",
    "    'Laos': \"Lao People's Democratic Republic\",\n",
    "    'Micronesia (country)': 'Micronesia (Federated States of)',\n",
    "    'Moldova': 'Republic of Moldova',\n",
    "    'North Macedonia': 'The former Yugoslav republic of Macedonia',\n",
    "    'Tanzania': 'United Republic of Tanzania',\n",
    "    'United Kingdom': 'United Kingdom of Great Britain and Northern Ireland',\n",
    "    'United States': 'United States of America',\n",
    "    'Venezuela': 'Venezuela (Bolivarian Republic of)',\n",
    "    'Vietnam': 'Viet Nam'\n",
    "})\n",
    "\n",
    "pop_df = pop_df.rename(columns={\n",
    "    'Entity': 'Country',\n",
    "    \"Population - Sex: all - Age: all - Variant: estimates\": \"Population\"})\n",
    "\n",
    "# Merge df with pop_df on Country and Year\n",
    "df = df.merge(pop_df[['Country', 'Year', 'Population']], on=['Country', 'Year'], how='left', suffixes=('', '_pop_df'))\n",
    "\n",
    "# Fill missing values in df's Population column with values from pop_df\n",
    "df['Population'] = df['Population'].fillna(df['Population_pop_df'])\n",
    "\n",
    "# Drop the additional Population column from pop_df after filling in missing values\n",
    "df = df.drop(columns=['Population_pop_df'])"
   ]
  },
  {
   "cell_type": "code",
   "execution_count": null,
   "metadata": {},
   "outputs": [],
   "source": [
    "# Load measles data\n",
    "measles_df = pd.read_csv('MeaslesCoverage.csv', encoding='latin1')\n",
    "\n",
    "# Replace original values with NaN\n",
    "df['Measles '] = np.nan\n",
    "\n",
    "# Merge df with measles_df on Country and Year\n",
    "measles_df = measles_df.rename(columns={'NAME': 'Country', 'YEAR': 'Year'})\n",
    "merged_df = df.merge(measles_df[['Country', 'Year', 'COVERAGE']], on=['Country', 'Year'], how='left')\n",
    "\n",
    "# Fill NaN values in the 'Measles' column with corresponding 'COVERAGE' values from measles_df\n",
    "df['Measles '] = merged_df['Measles '].fillna(merged_df['COVERAGE'])\n",
    "\n",
    "# Replace values in 'Measles' column that fall outside the expected percentage range with NaN\n",
    "df.loc[df['Measles '] > 100, 'Measles '] = np.nan"
   ]
  },
  {
   "cell_type": "code",
   "execution_count": null,
   "metadata": {},
   "outputs": [],
   "source": [
    "# Manually insert child mortality\n",
    "# Manually change under-five deaths for India\n",
    "replacement_data = {2000: 92, 2001: 88, 2002: 85, 2003: 81, 2004: 78, 2005: 74, 2006: 71, 2007: 68,\n",
    "                    2008: 65, 2009: 61, 2010: 58, 2011: 55, 2012: 52, 2013: 49, 2014: 46, 2015: 44}\n",
    "\n",
    "# Apply replacement data using loc and map\n",
    "df.loc[df['Country'] == 'India', 'under-five deaths '] = df['Year'].map(replacement_data).copy()\n",
    "\n",
    "# Load Data\n",
    "mortality_df = pd.read_csv(\"child-mortality.csv\")\n",
    "\n",
    "# Filter down to relevant information\n",
    "mortality_df = mortality_df[mortality_df['Entity'].isin(['Antigua and Barbuda', 'Bahamas', 'Bahrain', 'Barbados',\n",
    "                 'Bolivia', 'Brunei', 'Congo','Cuba', 'Czechia', \"Cote d'Ivoire\",\n",
    "                 \"North Korea\", 'Democratic Republic of Congo', 'Egypt', 'Eritrea',\n",
    "                 'Gambia', 'Grenada', 'Iran', 'Kuwait', 'Kyrgyzstan', \"Laos\", 'Libya',\n",
    "                 'Micronesia (country)', 'New Zealand', 'Oman', 'Qatar', 'South Korea',\n",
    "                 'Moldova', 'Saint Lucia', 'Saint Vincent and the Grenadines',\n",
    "                 'Saudi Arabia', 'Singapore', 'Slovakia', 'Somalia', 'North Macedonia',\n",
    "                 'United Arab Emirates', 'United Kingdom', 'Tanzania', 'United States',\n",
    "                 'Venezuela', 'Vietnam', 'Yemen'])]\n",
    "\n",
    "# Rename values and columns for merging\n",
    "mortality_df['Entity'] = mortality_df['Entity'].replace({\n",
    "    'Bolivia': 'Bolivia (Plurinational State of)',\n",
    "    'Brunei': 'Brunei Darussalam',\n",
    "    \"Cote d'Ivoire\": \"Côte d'Ivoire\",\n",
    "    'Democratic Republic of Congo': 'Democratic Republic of the Congo',\n",
    "    'North Korea': \"Democratic People's Republic of Korea\",\n",
    "    'Iran': 'Iran (Islamic Republic of)',\n",
    "    'South Korea': 'Republic of Korea',\n",
    "    'Laos': \"Lao People's Democratic Republic\",\n",
    "    'Micronesia (country)': 'Micronesia (Federated States of)',\n",
    "    'Moldova': 'Republic of Moldova',\n",
    "    'North Macedonia': 'The former Yugoslav republic of Macedonia',\n",
    "    'Tanzania': 'United Republic of Tanzania',\n",
    "    'United Kingdom': 'United Kingdom of Great Britain and Northern Ireland',\n",
    "    'United States': 'United States of America',\n",
    "    'Venezuela': 'Venezuela (Bolivarian Republic of)',\n",
    "    'Vietnam': 'Viet Nam'\n",
    "})\n",
    "\n",
    "mortality_df = mortality_df.rename(columns={\n",
    "    'Entity': 'Country',\n",
    "    'Under-five mortality rate': 'under-five deaths '})\n",
    "\n",
    "# Merge df with pop_df on Country and Year\n",
    "df = df.merge(mortality_df[['Country', 'Year', 'under-five deaths ']], on=['Country', 'Year'], how='left', suffixes=('', '_mortality_df'))\n",
    "\n",
    "# Replace instances where under-five deaths == 0 with values from mortality_df\n",
    "df['under-five deaths '] = df['under-five deaths '].astype(float) # Make columns the same dtype to avoid errors\n",
    "df.loc[df['under-five deaths '] == 0, 'under-five deaths '] = df.loc[df['under-five deaths '] == 0, 'under-five deaths _mortality_df']\n",
    "\n",
    "# Drop the additional column from mortality_df after filling in values\n",
    "df = df.drop(columns=['under-five deaths _mortality_df'])"
   ]
  },
  {
   "cell_type": "code",
   "execution_count": null,
   "metadata": {},
   "outputs": [],
   "source": [
    "# Manually insert Life Expectancy\n",
    "# Manually insert Life Expectancy for 10 missing countries \n",
    "replacement_data = {'Monaco': 84.9, 'San Marino': 82.4, 'Dominica': 68.9, 'Tuvalu': 64.0, 'Palau': 64.2, 'Marshall Islands': 63.5, 'Nauru': 61.2}\n",
    "\n",
    "\n",
    "# Update the DataFrame using .loc and the dictionary\n",
    "for country, life_expectancy in replacement_data.items():\n",
    "    df.loc[(df['Year'] == 2013) & (df['Country'] == country), 'Life expectancy '] = life_expectancy"
   ]
  },
  {
   "cell_type": "markdown",
   "metadata": {},
   "source": [
    "Forward/Backward Fill and Linear Interpolation by Country"
   ]
  },
  {
   "cell_type": "code",
   "execution_count": 45,
   "metadata": {},
   "outputs": [],
   "source": [
    "def fill_missing_values(group, col):\n",
    "    # Interpolate values for years 2001-2014\n",
    "    group.loc[(group['Year'] > 2000) & (group['Year'] < 2015), col] = group[col].interpolate(method='linear')\n",
    "\n",
    "    # For year 2000, fill with the next year's value if available\n",
    "    group.loc[group['Year'] == 2000, col] = group.loc[group['Year'] == 2000, col].fillna(group.loc[group['Year'] == 2001, col])\n",
    "\n",
    "    # For year 2015, fill with the previous year's value if available\n",
    "    group.loc[group['Year'] == 2015, col] = group.loc[group['Year'] == 2015, col].fillna(group.loc[group['Year'] == 2014, col])\n",
    "\n",
    "    # Optionally use forward fill and backward fill for remaining NaNs\n",
    "    group[col] = group[col].fillna(method='ffill').fillna(method='bfill')\n",
    "\n",
    "    return group\n",
    "\n",
    "start_col = df.columns.get_loc('Status')\n",
    "end_col = df.columns.get_loc('Schooling')\n",
    "for col in df.columns[start_col:end_col + 1]:\n",
    "  df = df.groupby('Country', group_keys=False).apply(lambda group: fill_missing_values(group, col))\n",
    "  df = df.reset_index(drop=True)"
   ]
  },
  {
   "cell_type": "markdown",
   "metadata": {},
   "source": [
    "KNN"
   ]
  },
  {
   "cell_type": "code",
   "execution_count": 46,
   "metadata": {},
   "outputs": [],
   "source": [
    "### NOTE ###\n",
    "# I'm commenting this code out for now, since it will take care of ALL remaining Null values.\n",
    "\n",
    "# # Store the 'Country' column temporarily in order to perform KNN on Numeric Data\n",
    "# country_col = df['Country']\n",
    "# df = df.drop(columns=['Country'])\n",
    "\n",
    "# # Apply KNN Imputer for Remaining NaN Values\n",
    "# knn_imputer = KNNImputer(n_neighbors=2)\n",
    "# df = pd.DataFrame(knn_imputer.fit_transform(df), columns=df.columns)\n",
    "\n",
    "# # Re-add 'Country' to the DataFrame\n",
    "# df['Country'] = country_col.values"
   ]
  },
  {
   "cell_type": "markdown",
   "metadata": {},
   "source": [
    "Formatting"
   ]
  },
  {
   "cell_type": "code",
   "execution_count": 47,
   "metadata": {},
   "outputs": [],
   "source": [
    "# TO-DO"
   ]
  },
  {
   "cell_type": "markdown",
   "metadata": {},
   "source": [
    "Assertions"
   ]
  },
  {
   "cell_type": "code",
   "execution_count": 48,
   "metadata": {},
   "outputs": [],
   "source": [
    "assert df.duplicated().sum() == 0, \"The DataFrame contains duplicate rows\"\n",
    "# assert df.isnull().sum().sum() == 0, \"There are null values in the DataFrame.\""
   ]
  },
  {
   "cell_type": "markdown",
   "metadata": {},
   "source": [
    "Export Clean Data to CSV"
   ]
  },
  {
   "cell_type": "code",
   "execution_count": 49,
   "metadata": {},
   "outputs": [],
   "source": [
    "df.to_csv('LifeExpectancyClean.csv')"
   ]
  },
  {
   "cell_type": "markdown",
   "metadata": {},
   "source": [
    "Number of Null Values Remaining in Data:"
   ]
  },
  {
   "cell_type": "code",
   "execution_count": 50,
   "metadata": {},
   "outputs": [
    {
     "name": "stdout",
     "output_type": "stream",
     "text": [
      "Number of null values in each column:\n",
      "Country                              0\n",
      "Year                                 0\n",
      "Status                               0\n",
      "Life expectancy                      0\n",
      "Adult Mortality                      0\n",
      "infant deaths                        0\n",
      "Alcohol                             16\n",
      "percentage expenditure               0\n",
      "Hepatitis B                        144\n",
      "Measles                              0\n",
      " BMI                                32\n",
      "under-five deaths                    0\n",
      "Polio                                0\n",
      "Total expenditure                   32\n",
      "Diphtheria                           0\n",
      " HIV/AIDS                            0\n",
      "GDP                                400\n",
      "Population                           0\n",
      " thinness  1-19 years               32\n",
      " thinness 5-9 years                 32\n",
      "Income composition of resources    160\n",
      "Schooling                          160\n",
      "dtype: int64\n"
     ]
    }
   ],
   "source": [
    "print(\"Number of null values in each column:\")\n",
    "null_counts = df.isnull().sum()\n",
    "print(null_counts)"
   ]
  }
 ],
 "metadata": {
  "colab": {
   "provenance": []
  },
  "kernelspec": {
   "display_name": "Python 3",
   "name": "python3"
  },
  "language_info": {
   "codemirror_mode": {
    "name": "ipython",
    "version": 3
   },
   "file_extension": ".py",
   "mimetype": "text/x-python",
   "name": "python",
   "nbconvert_exporter": "python",
   "pygments_lexer": "ipython3",
   "version": "3.11.5"
  }
 },
 "nbformat": 4,
 "nbformat_minor": 0
}
