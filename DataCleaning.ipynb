{
 "cells": [
  {
   "cell_type": "markdown",
   "metadata": {
    "id": "GgX0w0tIuWNz"
   },
   "source": [
    "# Life Expectancy Data Cleaning"
   ]
  },
  {
   "cell_type": "code",
   "execution_count": 36,
   "metadata": {},
   "outputs": [],
   "source": [
    "import numpy as np\n",
    "import pandas as pd\n",
    "from sklearn.impute import KNNImputer"
   ]
  },
  {
   "cell_type": "markdown",
   "metadata": {},
   "source": [
    "Load Raw Data"
   ]
  },
  {
   "cell_type": "code",
   "execution_count": 37,
   "metadata": {},
   "outputs": [],
   "source": [
    "# Load Data\n",
    "df = pd.read_csv(\"LifeExpectancyRaw.csv\")"
   ]
  },
  {
   "cell_type": "markdown",
   "metadata": {},
   "source": [
    "Drop Rows"
   ]
  },
  {
   "cell_type": "code",
   "execution_count": 38,
   "metadata": {},
   "outputs": [],
   "source": [
    "# Drop Rows where Life Expectancy is Missing (10 countries where the country only has one year of data)\n",
    "df = df.dropna(subset=['Life expectancy '])\n",
    "\n",
    "# Drop South Sudan Due to Large Portion of Missing Data\n",
    "df = df[df['Country'] != 'South Sudan']"
   ]
  },
  {
   "cell_type": "markdown",
   "metadata": {},
   "source": [
    "Convert Columns to Binary"
   ]
  },
  {
   "cell_type": "code",
   "execution_count": 39,
   "metadata": {},
   "outputs": [],
   "source": [
    "# Convert Status Column to Binary\n",
    "df['Status'].replace({'Developed': 1, 'Developing': 0}, inplace=True)"
   ]
  },
  {
   "cell_type": "markdown",
   "metadata": {},
   "source": [
    "Manually Insert Data"
   ]
  },
  {
   "cell_type": "code",
   "execution_count": 40,
   "metadata": {},
   "outputs": [],
   "source": [
    "# Manually insert population\n",
    "# Load Data\n",
    "pop_df = pd.read_csv(\"population-and-demography.csv\")\n",
    "pop_df = pop_df[pop_df['Entity'].isin(['Antigua and Barbuda', 'Bahamas', 'Bahrain', 'Barbados',\n",
    "                 'Bolivia', 'Brunei', 'Congo','Cuba', 'Czechia', \"Cote d'Ivoire\",\n",
    "                 \"North Korea\", 'Democratic Republic of Congo', 'Egypt', 'Eritrea',\n",
    "                 'Gambia', 'Grenada', 'Iran', 'Kuwait', 'Kyrgyzstan', \"Laos\", 'Libya',\n",
    "                 'Micronesia (country)', 'New Zealand', 'Oman', 'Qatar', 'South Korea',\n",
    "                 'Moldova', 'Saint Lucia', 'Saint Vincent and the Grenadines',\n",
    "                 'Saudi Arabia', 'Singapore', 'Slovakia', 'Somalia', 'North Macedonia',\n",
    "                 'United Arab Emirates', 'United Kingdom', 'Tanzania', 'United States',\n",
    "                 'Venezuela', 'Vietnam', 'Yemen'])]\n",
    "\n",
    "pop_df['Entity'] = pop_df['Entity'].replace({\n",
    "    'Bolivia': 'Bolivia (Plurinational State of)',\n",
    "    'Brunei': 'Brunei Darussalam',\n",
    "    \"Cote d'Ivoire\": \"Côte d'Ivoire\",\n",
    "    'Democratic Republic of Congo': 'Democratic Republic of the Congo',\n",
    "    'North Korea': \"Democratic People's Republic of Korea\",\n",
    "    'Iran': 'Iran (Islamic Republic of)',\n",
    "    'South Korea': 'Republic of Korea',\n",
    "    'Laos': \"Lao People's Democratic Republic\",\n",
    "    'Micronesia (country)': 'Micronesia (Federated States of)',\n",
    "    'Moldova': 'Republic of Moldova',\n",
    "    'North Macedonia': 'The former Yugoslav republic of Macedonia',\n",
    "    'Tanzania': 'United Republic of Tanzania',\n",
    "    'United Kingdom': 'United Kingdom of Great Britain and Northern Ireland',\n",
    "    'United States': 'United States of America',\n",
    "    'Venezuela': 'Venezuela (Bolivarian Republic of)',\n",
    "    'Vietnam': 'Viet Nam'\n",
    "})\n",
    "\n",
    "pop_df = pop_df.rename(columns={\n",
    "    'Entity': 'Country',\n",
    "    \"Population - Sex: all - Age: all - Variant: estimates\": \"Population\"})\n",
    "\n",
    "# Merge df with pop_df on Country and Year\n",
    "df = df.merge(pop_df[['Country', 'Year', 'Population']], on=['Country', 'Year'], how='left', suffixes=('', '_pop_df'))\n",
    "\n",
    "# Fill missing values in df's Population column with values from pop_df\n",
    "df['Population'] = df['Population'].fillna(df['Population_pop_df'])\n",
    "\n",
    "# Drop the additional Population column from pop_df after filling in missing values\n",
    "df = df.drop(columns=['Population_pop_df'])"
   ]
  },
  {
   "cell_type": "code",
   "execution_count": 41,
   "metadata": {},
   "outputs": [],
   "source": [
    "# Load measles data\n",
    "measles_df = pd.read_csv('MeaslesCoverage.csv', encoding='latin1')\n",
    "\n",
    "# Replace original values with NaN\n",
    "df['Measles '] = np.nan\n",
    "\n",
    "# Merge df with measles_df on Country and Year\n",
    "measles_df = measles_df.rename(columns={'NAME': 'Country', 'YEAR': 'Year'})\n",
    "merged_df = df.merge(measles_df[['Country', 'Year', 'COVERAGE']], on=['Country', 'Year'], how='left')\n",
    "\n",
    "# Fill NaN values in the 'Measles' column with corresponding 'COVERAGE' values from measles_df\n",
    "df['Measles '] = merged_df['Measles '].fillna(merged_df['COVERAGE'])\n",
    "\n",
    "# Replace values in 'Measles' column that fall outside the expected percentage range with NaN\n",
    "df.loc[df['Measles '] > 100, 'Measles '] = np.nan"
   ]
  },
  {
   "cell_type": "code",
   "execution_count": 42,
   "metadata": {},
   "outputs": [],
   "source": [
    "# Manually insert child mortality\n",
    "# Load Data\n",
    "mortality_df = pd.read_csv(\"child-mortality.csv\")\n",
    "\n",
    "# Rename values and columns for merging\n",
    "mortality_df['Entity'] = mortality_df['Entity'].replace({\n",
    "    'Bolivia': 'Bolivia (Plurinational State of)',\n",
    "    'Brunei': 'Brunei Darussalam',\n",
    "    \"Cote d'Ivoire\": \"Côte d'Ivoire\",\n",
    "    'Cape Verde': 'Cabo Verde',\n",
    "    'Democratic Republic of Congo': 'Democratic Republic of the Congo',\n",
    "    'North Korea': \"Democratic People's Republic of Korea\",\n",
    "    'Iran': 'Iran (Islamic Republic of)',\n",
    "    'South Korea': 'Republic of Korea',\n",
    "    'Laos': \"Lao People's Democratic Republic\",\n",
    "    'Micronesia (country)': 'Micronesia (Federated States of)',\n",
    "    'Moldova': 'Republic of Moldova',\n",
    "    'North Macedonia': 'The former Yugoslav republic of Macedonia',\n",
    "    'Tanzania': 'United Republic of Tanzania',\n",
    "    'United Kingdom': 'United Kingdom of Great Britain and Northern Ireland',\n",
    "    'United States': 'United States of America',\n",
    "    'Venezuela': 'Venezuela (Bolivarian Republic of)',\n",
    "    'Vietnam': 'Viet Nam', \n",
    "    'Russia': 'Russian Federation',\n",
    "    'Eswatini': 'Swaziland', \n",
    "    'Syria': 'Syrian Arab Republic',\n",
    "    'East Timor': 'Timor-Leste'\n",
    "})\n",
    "\n",
    "mortality_df = mortality_df.rename(columns={\n",
    "    'Entity': 'Country',\n",
    "    'Under-five mortality rate': 'under-five deaths '})\n",
    "\n",
    "# Merge df with pop_df on Country and Year\n",
    "df = df.merge(mortality_df[['Country', 'Year', 'under-five deaths ']], on=['Country', 'Year'], how='left', suffixes=('', '_mortality_df'))\n",
    "\n",
    "# Replace under-five deaths with values from mortality_df\n",
    "df['under-five deaths '] = df['under-five deaths '].astype(float) # Make columns the same dtype to avoid errors\n",
    "df['under-five deaths '] = df['under-five deaths _mortality_df']\n",
    "\n",
    "# Drop the additional column from mortality_df after filling in values\n",
    "df = df.drop(columns=['under-five deaths _mortality_df'])"
   ]
  },
  {
   "cell_type": "code",
   "execution_count": 43,
   "metadata": {},
   "outputs": [],
   "source": [
    "# Manually insert GDP data\n",
    "gdp_df = pd.read_csv(\"GDP.csv\", skiprows=4)\n",
    "gdp_df.drop(columns=['Country Code', 'Indicator Code', '1960', '1961', '1962', '1963', '1964', '1965', '1966', '1967', '1968',\n",
    "       '1969', '1970', '1971', '1972', '1973', '1974', '1975', '1976', '1977',\n",
    "       '1978', '1979', '1980', '1981', '1982', '1983', '1984', '1985', '1986',\n",
    "       '1987', '1988', '1989', '1990', '1991', '1992', '1993', '1994', '1995',\n",
    "       '1996', '1997', '1998', '1999', '2016', '2017', '2018', '2019', '2020', '2021', '2022',\n",
    "       '2023', 'Unnamed: 68'], inplace=True)            # drop unnecessary columns\n",
    "\n",
    "# Rename column names to match our data\n",
    "gdp_df['Country Name'] = gdp_df['Country Name'].replace({\n",
    "    'Bahamas, The': 'Bahamas',\n",
    "    'Bolivia': 'Bolivia (Plurinational State of)',\n",
    "    \"Cote d'Ivoire\": \"Côte d'Ivoire\",\n",
    "    'Congo, Dem. Rep.':'Democratic Republic of the Congo',\n",
    "    'Congo, Rep.':'Congo',\n",
    "    'Egypt, Arab Rep.':'Egypt',\n",
    "    'Gambia, The': \"Gambia\",\n",
    "    'Iran, Islamic Rep.': 'Iran (Islamic Republic of)',\n",
    "    'Korea, Dem. People\\'s Rep.':\"Democratic People's Republic of Korea\",\n",
    "    'Korea, Rep.': 'Republic of Korea',\n",
    "    'Kyrgyz Republic': 'Kyrgyzstan',\n",
    "    \"Lao PDR\": \"Lao People's Democratic Republic\",\n",
    "    'Micronesia, Fed. Sts.': 'Micronesia (Federated States of)',\n",
    "    'Moldova': 'Republic of Moldova',\n",
    "    'North Macedonia': 'The former Yugoslav republic of Macedonia',\n",
    "    'Slovak Republic': 'Slovakia',\n",
    "    'St. Lucia': 'Saint Lucia',\n",
    "    'St. Vincent and the Grenadines': 'Saint Vincent and the Grenadines',\n",
    "    'Tanzania': 'United Republic of Tanzania',\n",
    "    'United Kingdom': 'United Kingdom of Great Britain and Northern Ireland',\n",
    "    'United States': 'United States of America',\n",
    "    'Venezuela, RB': 'Venezuela (Bolivarian Republic of)',\n",
    "    'Vietnam': 'Viet Nam',\n",
    "    'Yemen, Rep.': 'Yemen'\n",
    "})\n",
    "# Turn year columns into seperate rows\n",
    "gdp_df = pd.melt(gdp_df, \n",
    "                   id_vars=['Country Name', 'Indicator Name'],\n",
    "                   var_name='Year', \n",
    "                   value_name='GDP')\n",
    "\n",
    "# Change year to int to be able to merge\n",
    "gdp_df['Year'] = gdp_df['Year'].astype(int)\n",
    "\n",
    "# Merge df with gdp_df on Country and Year\n",
    "gdp_df_merged = df.merge(gdp_df[['Country Name', 'Year', 'GDP']], left_on=['Country', 'Year'], \n",
    "                         right_on=['Country Name', 'Year'], \n",
    "                         how='left', \n",
    "                         suffixes=('', '_new'))\n",
    "\n",
    "# Add Venezuela data\n",
    "years = list(range(2000,2016))\n",
    "gdp_ven = [11.9e3, 12.1e3, 10.8e3, 9.83e3, 11.4e3, 12.4e3, 13.4e3, 14.4e3, 14.9e3, 14.2e3, 13.8e3, 14.2e3, 14.7e3, 14.7e3, 1.4e4, 14.1e3]\n",
    "venezuela_gdp = pd.DataFrame({\n",
    "    'Country': 'Venezuela (Bolivarian Republic of)',\n",
    "    'Year': years,\n",
    "    'GDP_v': gdp_ven\n",
    "})\n",
    "\n",
    "# Add North Korea data\n",
    "gdp_nk = [10.61e9, 11.02e9, 10.91e9, 11.05e9, 11.17e9, 13.03e9, 13.76e9, 14.37e9, 13.34e9, 12.04e9, 13.95e9, 15.69e9, 15.91e9, 16.57e9, 17.4e9, 16.28e9]\n",
    "nk_gdp = pd.DataFrame({\n",
    "    'Country': \"Democratic People's Republic of Korea\",\n",
    "    'Year':years,\n",
    "    'GDP_nk':gdp_nk\n",
    "})\n",
    "\n",
    "# Merge GDP data back into the main DataFrame on Country and Year\n",
    "gdp_df_merged = gdp_df_merged.merge(venezuela_gdp, on=['Country', 'Year'], how='outer')\n",
    "gdp_df_merged = gdp_df_merged.merge(nk_gdp, on=['Country', 'Year'], how='outer')\n",
    "\n",
    "# Fill missing GDP values\n",
    "gdp_df_merged['GDP'] = gdp_df_merged['GDP'].fillna(gdp_df_merged['GDP_new'])\n",
    "gdp_df_merged['GDP'] = gdp_df_merged['GDP'].fillna(gdp_df_merged['GDP_v'])\n",
    "gdp_df_merged['GDP'] = gdp_df_merged['GDP'].fillna(gdp_df_merged['GDP_nk']/gdp_df_merged['Population'])\n",
    "\n",
    "# Drop joined columns after filling in missing values\n",
    "df = gdp_df_merged.drop(columns=['Country Name', 'GDP_v', 'GDP_new', 'GDP_nk'])"
   ]
  },
  {
   "cell_type": "markdown",
   "metadata": {},
   "source": [
    "Forward/Backward Fill and Linear Interpolation by Country"
   ]
  },
  {
   "cell_type": "code",
   "execution_count": 44,
   "metadata": {},
   "outputs": [],
   "source": [
    "def fill_missing_values(group, col):\n",
    "    # Interpolate values for years 2001-2014\n",
    "    group.loc[(group['Year'] > 2000) & (group['Year'] < 2015), col] = group[col].interpolate(method='linear')\n",
    "\n",
    "    # For year 2000, fill with the next year's value if available\n",
    "    group.loc[group['Year'] == 2000, col] = group.loc[group['Year'] == 2000, col].fillna(group.loc[group['Year'] == 2001, col])\n",
    "\n",
    "    # For year 2015, fill with the previous year's value if available\n",
    "    group.loc[group['Year'] == 2015, col] = group.loc[group['Year'] == 2015, col].fillna(group.loc[group['Year'] == 2014, col])\n",
    "\n",
    "    # Optionally use forward fill and backward fill for remaining NaNs\n",
    "    group[col] = group[col].fillna(method='ffill').fillna(method='bfill')\n",
    "\n",
    "    return group\n",
    "\n",
    "start_col = df.columns.get_loc('Status')\n",
    "end_col = df.columns.get_loc('Schooling')\n",
    "for col in df.columns[start_col:end_col + 1]:\n",
    "  df = df.groupby('Country', group_keys=False).apply(lambda group: fill_missing_values(group, col))\n",
    "  df = df.reset_index(drop=True)"
   ]
  },
  {
   "cell_type": "markdown",
   "metadata": {},
   "source": [
    "Remove Values that Fall Outside the Reasonable Range"
   ]
  },
  {
   "cell_type": "code",
   "execution_count": 45,
   "metadata": {},
   "outputs": [],
   "source": [
    "# Replace values outside the range with NaN\n",
    "df.loc[~df['Adult Mortality'].between(1, 600), 'Adult Mortality'] = np.nan"
   ]
  },
  {
   "cell_type": "markdown",
   "metadata": {},
   "source": [
    "KNN"
   ]
  },
  {
   "cell_type": "code",
   "execution_count": 46,
   "metadata": {},
   "outputs": [],
   "source": [
    "# Store the 'Country' column temporarily in order to perform KNN on Numeric Data\n",
    "country_col = df['Country']\n",
    "df = df.drop(columns=['Country'])\n",
    "\n",
    "# Apply KNN Imputer for Remaining NaN Values\n",
    "knn_imputer = KNNImputer(n_neighbors=2)\n",
    "df = pd.DataFrame(knn_imputer.fit_transform(df), columns=df.columns)\n",
    "\n",
    "# Re-add 'Country' to the DataFrame\n",
    "df['Country'] = country_col.values"
   ]
  },
  {
   "cell_type": "markdown",
   "metadata": {},
   "source": [
    "Formatting"
   ]
  },
  {
   "cell_type": "code",
   "execution_count": 47,
   "metadata": {},
   "outputs": [],
   "source": [
    "# strip columns of leading and trailing whitespace\n",
    "df.columns = df.columns.str.strip()\n",
    "\n",
    "# rename columns to create consistent capitalization\n",
    "df.rename(columns={'Life expectancy':'Life Expectancy', 'infant deaths':'Infant Deaths', 'percentage expenditure':'Percentage Expenditure', \n",
    "                   'under-five deaths':'Under-five Deaths', 'Total expenditure':'Total Expenditure', 'thinness  1-19 years':'Thinness 1-19 Years', \n",
    "                   'thinness 5-9 years':'Thinness 5-9 Years', 'Income composition of resources':'Income Composition of Resources'}, inplace=True)"
   ]
  },
  {
   "cell_type": "markdown",
   "metadata": {},
   "source": [
    "Assertions"
   ]
  },
  {
   "cell_type": "code",
   "execution_count": 48,
   "metadata": {},
   "outputs": [],
   "source": [
    "assert df.duplicated().sum() == 0, \"The DataFrame contains duplicate rows.\"\n",
    "assert df.isnull().sum().sum() == 0, \"There are null values in the DataFrame.\"\n",
    "assert df.groupby('Country')['Year'].apply(lambda x: set(range(2000, 2016)).issubset(x)).all(), \"Not all countries have entries for each year from 2000 to 2015.\"\n",
    "assert df['Life Expectancy'].between(35, 100).all(), \"Life expectancy values are out of the specified range\"\n",
    "assert df['Adult Mortality'].between(1, 600).all(), \"Adult mortality values are out of the specified range\"\n",
    "# assert df['Infant Deaths'].between(1, 600).all(), \"Infant mortality values are out of the specified range\"\n",
    "assert df['Alcohol'].between(0, 18).all(), \"Alcohol consumption values are out of the specified range\"\n",
    "assert df['Percentage Expenditure'].between(0, 30000).all(), \"Percentage expenditure values are out of the specified range\"\n",
    "assert df['Hepatitis B'].between(0, 100).all(), \"Hepatitis B values are out of the specified range\"\n",
    "assert df['Measles'].between(0, 100).all(), \"Measles values are out of the specified range\"\n",
    "# assert df['BMI'].between(10, 40).all(), \"BMI values are out of the specified range\"\n",
    "# assert df['Under-five Deaths'].between(1, 1000).all(), \"Under-five mortality values are out of the specified range\"\n",
    "assert df['Polio'].between(0, 100).all(), \"Polio values are out of the specified range\"\n",
    "assert df['Total Expenditure'].between(0, 30000).all(), \"Total expenditure values are out of the specified range\"\n",
    "assert df['Diphtheria'].between(0, 100).all(), \"Diptheria values are out of the specified range\"\n",
    "assert df['HIV/AIDS'].between(0, 900).all(), \"HIV/AIDS values are out of the specified range\"\n",
    "assert df['GDP'].between(0, 300000).all(), \"GDP values are out of the specified range\"\n",
    "# assert df['Population'].between(100, 2000000000).all(), \"Population values are out of the specified range\"\n",
    "assert df['Thinness 1-19 Years'].between(0, 60).all(), \"Thinness (1-19) values are out of the specified range\"\n",
    "assert df['Thinness 5-9 Years'].between(0, 60).all(), \"Thinness (5-9) values are out of the specified range\"\n",
    "assert df['Income Composition of Resources'].between(0, 1).all(), \"Income composition resources values are out of the specified range\"\n",
    "assert df['Schooling'].between(0, 25).all(), \"Schooling values are out of the specified range\""
   ]
  },
  {
   "cell_type": "markdown",
   "metadata": {},
   "source": [
    "Export Clean Data to CSV"
   ]
  },
  {
   "cell_type": "code",
   "execution_count": 49,
   "metadata": {},
   "outputs": [],
   "source": [
    "df.to_csv('LifeExpectancyClean.csv')"
   ]
  }
 ],
 "metadata": {
  "colab": {
   "provenance": []
  },
  "kernelspec": {
   "display_name": "Python 3",
   "language": "python",
   "name": "python3"
  },
  "language_info": {
   "codemirror_mode": {
    "name": "ipython",
    "version": 3
   },
   "file_extension": ".py",
   "mimetype": "text/x-python",
   "name": "python",
   "nbconvert_exporter": "python",
   "pygments_lexer": "ipython3",
   "version": "3.11.5"
  }
 },
 "nbformat": 4,
 "nbformat_minor": 0
}
